{
 "cells": [
  {
   "cell_type": "code",
   "execution_count": 1,
   "metadata": {},
   "outputs": [],
   "source": [
    "import pandas as pd\n",
    "from pathlib import Path\n",
    "import numpy as np\n",
    "import h5py\n",
    "from tqdm.auto import tqdm\n"
   ]
  },
  {
   "cell_type": "code",
   "execution_count": 2,
   "metadata": {},
   "outputs": [],
   "source": [
    "# from https://github.com/biopython/biopython/blob/master/Bio/Data/IUPACData.py\n",
    "protein_letters_1to3 = {\n",
    "    \"A\": \"Ala\",\n",
    "    \"C\": \"Cys\",\n",
    "    \"D\": \"Asp\",\n",
    "    \"E\": \"Glu\",\n",
    "    \"F\": \"Phe\",\n",
    "    \"G\": \"Gly\",\n",
    "    \"H\": \"His\",\n",
    "    \"I\": \"Ile\",\n",
    "    \"K\": \"Lys\",\n",
    "    \"L\": \"Leu\",\n",
    "    \"M\": \"Met\",\n",
    "    \"N\": \"Asn\",\n",
    "    \"P\": \"Pro\",\n",
    "    \"Q\": \"Gln\",\n",
    "    \"R\": \"Arg\",\n",
    "    \"S\": \"Ser\",\n",
    "    \"T\": \"Thr\",\n",
    "    \"V\": \"Val\",\n",
    "    \"W\": \"Trp\",\n",
    "    \"Y\": \"Tyr\",\n",
    "}\n",
    "\n",
    "protein_letters_3to1 = {value.upper(): key for key, value in protein_letters_1to3.items()}\n",
    "protein_letters_3to1['HIE'] = \"H\"\n",
    "protein_letters_3to1['HIP'] = \"H\"\n",
    "protein_letters_3to1['HID'] = \"H\"\n",
    "protein_letters_3to1['CYX'] = \"C\"\n"
   ]
  },
  {
   "cell_type": "code",
   "execution_count": null,
   "metadata": {},
   "outputs": [],
   "source": []
  },
  {
   "cell_type": "code",
   "execution_count": 3,
   "metadata": {},
   "outputs": [],
   "source": [
    "h5files = [\n",
    "    # \"md_test_out.hdf5\",\n",
    "    \"md_esm_if_0_5000.hdf5\",\n",
    "    \"md_esm_if_5000_10000.hdf5\",\n",
    "    \"md_esm_if_10000_.hdf5\"\n",
    "]\n",
    "available_pdbids = []\n",
    "for filename in h5files:\n",
    "    with h5py.File(filename) as f:\n",
    "        available_pdbids.extend(list(f.keys()))"
   ]
  },
  {
   "cell_type": "code",
   "execution_count": 4,
   "metadata": {},
   "outputs": [
    {
     "data": {
      "text/plain": [
       "14453"
      ]
     },
     "execution_count": 4,
     "metadata": {},
     "output_type": "execute_result"
    }
   ],
   "source": [
    "len(available_pdbids)"
   ]
  },
  {
   "cell_type": "code",
   "execution_count": 5,
   "metadata": {},
   "outputs": [],
   "source": [
    "def read_pdbid(train_idx):\n",
    "  with open(train_idx) as f:\n",
    "    for line in f:\n",
    "      line = line.strip()\n",
    "      if len(line) == 4:\n",
    "        yield line\n",
    "\n",
    "\n",
    "DATADIR = Path(\"MiSaTo-dataset\")\n",
    "\n",
    "train_idx = list(read_pdbid(DATADIR/ \"data/MD/splits/train_MD.txt\"))\n",
    "val_idx = list(read_pdbid(DATADIR / \"data/MD/splits/val_MD.txt\"))\n",
    "test_idx = list(read_pdbid(DATADIR / \"data/MD/splits/test_MD.txt\"))"
   ]
  },
  {
   "cell_type": "code",
   "execution_count": 6,
   "metadata": {},
   "outputs": [
    {
     "name": "stdout",
     "output_type": "stream",
     "text": [
      "train_idx:\t 13765 \t---> 11759\n",
      "val_idx:\t 1595 \t---> 1342\n",
      "test_idx:\t 1612 \t---> 1352\n"
     ]
    }
   ],
   "source": [
    "print(\"train_idx:\\t\", len(train_idx), \"\\t--->\", len(set(train_idx) & set(available_pdbids)))\n",
    "print(\"val_idx:\\t\", len(val_idx), \"\\t--->\", len(set(val_idx) & set(available_pdbids)))\n",
    "print(\"test_idx:\\t\", len(test_idx), \"\\t--->\", len(set(test_idx) & set(available_pdbids)))"
   ]
  },
  {
   "cell_type": "code",
   "execution_count": 18,
   "metadata": {},
   "outputs": [
    {
     "data": {
      "application/vnd.jupyter.widget-view+json": {
       "model_id": "498e842555e04bd6bd7a26b84841c70f",
       "version_major": 2,
       "version_minor": 0
      },
      "text/plain": [
       "  0%|          | 0/3 [00:00<?, ?it/s]"
      ]
     },
     "metadata": {},
     "output_type": "display_data"
    }
   ],
   "source": [
    "data_folders = [\n",
    "    \"out_big\",\n",
    "    \"out_big_5000\",\n",
    "    \"out_big_10000\"\n",
    "]\n",
    "all_sequences_info = []\n",
    "\n",
    "skipped_data = []\n",
    "\n",
    "train_set = set(train_idx)\n",
    "val_set = set(val_idx)\n",
    "test_set = set(test_idx)\n",
    "\n",
    "for data_folder in tqdm(data_folders):\n",
    "    folder_path = Path(data_folder)\n",
    "    collected_dir = folder_path / \"pdb\" / \"collected\"\n",
    "    filenames = list(collected_dir.glob(\"*.csv\"))\n",
    "    for filename in filenames:\n",
    "        df = pd.read_csv(filename)\n",
    "        if df[[\"N\", \"CA\", \"C\"]].isna().values.any():\n",
    "            skipped_data.append(filename.stem)\n",
    "            continue  # skip everything with NaNs\n",
    "        df['aa'] = df.residue_name.apply(lambda x: protein_letters_3to1[x])\n",
    "        full_sequence = \"\".join(df.aa.values)\n",
    "        chain_aa = {\n",
    "            chain: \"\".join(df.loc[df.chain == chain, \"aa\"].values) \n",
    "            for chain in df.chain.unique()\n",
    "        }\n",
    "        pdbid = filename.stem\n",
    "        split_name = None\n",
    "        if pdbid in train_set:\n",
    "            split_name = \"train\"\n",
    "        elif pdbid in val_set:\n",
    "            split_name = \"val\"\n",
    "        elif pdbid in test_set:\n",
    "            split_name = \"test\"\n",
    "\n",
    "        all_sequences_info.append({\n",
    "            \"pdbid\": pdbid,\n",
    "            \"full\": 1,\n",
    "            \"chain\": -1,\n",
    "            \"sequence\": full_sequence,\n",
    "            \"split_name\": split_name\n",
    "        })\n",
    "        for chain, seq in chain_aa.items():\n",
    "            all_sequences_info.append({\n",
    "                \"pdbid\": pdbid,\n",
    "                \"full\": 0,\n",
    "                \"chain\": chain,\n",
    "                \"sequence\": seq,\n",
    "                \"split_name\": split_name\n",
    "            })\n",
    "        # break"
   ]
  },
  {
   "cell_type": "code",
   "execution_count": 19,
   "metadata": {},
   "outputs": [],
   "source": [
    "df = pd.DataFrame(all_sequences_info)"
   ]
  },
  {
   "cell_type": "code",
   "execution_count": 11,
   "metadata": {},
   "outputs": [],
   "source": [
    "df = pd.read_csv(filename)"
   ]
  },
  {
   "cell_type": "code",
   "execution_count": 23,
   "metadata": {},
   "outputs": [
    {
     "data": {
      "text/plain": [
       "(14453,)"
      ]
     },
     "execution_count": 23,
     "metadata": {},
     "output_type": "execute_result"
    }
   ],
   "source": [
    "df.pdbid.unique().shape"
   ]
  },
  {
   "cell_type": "code",
   "execution_count": 24,
   "metadata": {},
   "outputs": [],
   "source": [
    "df.to_csv(\"misato_sequences_info.csv\", index=None)"
   ]
  },
  {
   "cell_type": "code",
   "execution_count": 28,
   "metadata": {},
   "outputs": [],
   "source": [
    "pd.DataFrame(sorted(skipped_data)).to_csv(\"skipped_pdbids.csv\", header=None, index=None)"
   ]
  },
  {
   "cell_type": "code",
   "execution_count": null,
   "metadata": {},
   "outputs": [],
   "source": []
  }
 ],
 "metadata": {
  "kernelspec": {
   "display_name": "encodermap_fixed",
   "language": "python",
   "name": "python3"
  },
  "language_info": {
   "codemirror_mode": {
    "name": "ipython",
    "version": 3
   },
   "file_extension": ".py",
   "mimetype": "text/x-python",
   "name": "python",
   "nbconvert_exporter": "python",
   "pygments_lexer": "ipython3",
   "version": "3.10.11"
  },
  "orig_nbformat": 4
 },
 "nbformat": 4,
 "nbformat_minor": 2
}
