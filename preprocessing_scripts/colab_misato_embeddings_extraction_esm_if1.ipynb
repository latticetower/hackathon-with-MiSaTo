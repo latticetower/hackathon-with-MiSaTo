{
  "cells": [
    {
      "cell_type": "code",
      "execution_count": null,
      "metadata": {
        "colab": {
          "base_uri": "https://localhost:8080/"
        },
        "id": "ArMx13uXQiQx",
        "outputId": "fcfcbea9-8326-4f4a-c708-dc48fcdc95f3"
      },
      "outputs": [
        {
          "name": "stdout",
          "output_type": "stream",
          "text": [
            "  Installing build dependencies ... \u001b[?25l\u001b[?25hdone\n",
            "  Getting requirements to build wheel ... \u001b[?25l\u001b[?25hdone\n",
            "  Preparing metadata (pyproject.toml) ... \u001b[?25l\u001b[?25hdone\n"
          ]
        }
      ],
      "source": [
        "# Colab environment setup\n",
        "import numpy as np\n",
        "# Install the correct version of Pytorch Geometric.\n",
        "import torch\n",
        "\n",
        "def format_pytorch_version(version):\n",
        "  return version.split('+')[0]\n",
        "\n",
        "TORCH_version = torch.__version__\n",
        "TORCH = format_pytorch_version(TORCH_version)\n",
        "\n",
        "def format_cuda_version(version):\n",
        "  return 'cu' + version.replace('.', '')\n",
        "\n",
        "CUDA_version = torch.version.cuda\n",
        "CUDA = format_cuda_version(CUDA_version)\n",
        "\n",
        "!pip install -q torch-scatter -f https://data.pyg.org/whl/torch-{TORCH}+{CUDA}.html\n",
        "!pip install -q torch-sparse -f https://data.pyg.org/whl/torch-{TORCH}+{CUDA}.html\n",
        "!pip install -q torch-cluster -f https://data.pyg.org/whl/torch-{TORCH}+{CUDA}.html\n",
        "!pip install -q torch-spline-conv -f https://data.pyg.org/whl/torch-{TORCH}+{CUDA}.html\n",
        "!pip install -q torch-geometric\n",
        "\n",
        "# Install esm\n",
        "!pip install -q git+https://github.com/facebookresearch/esm.git\n",
        "\n",
        "# Install biotite\n",
        "!pip install -q biotite"
      ]
    },
    {
      "cell_type": "code",
      "execution_count": null,
      "metadata": {
        "id": "NCigSo8tQojN"
      },
      "outputs": [],
      "source": [
        "## Verify that pytorch-geometric is correctly installed\n",
        "import torch_geometric\n",
        "import torch_sparse\n",
        "from torch_geometric.nn import MessagePassing"
      ]
    },
    {
      "cell_type": "code",
      "execution_count": null,
      "metadata": {
        "colab": {
          "base_uri": "https://localhost:8080/"
        },
        "id": "gSIUMyvYQ1sR",
        "outputId": "57393275-ef7d-41c9-f301-08021a17242e"
      },
      "outputs": [
        {
          "name": "stderr",
          "output_type": "stream",
          "text": [
            "/usr/local/lib/python3.10/dist-packages/esm/pretrained.py:215: UserWarning: Regression weights not found, predicting contacts will not produce correct results.\n",
            "  warnings.warn(\n"
          ]
        }
      ],
      "source": [
        "import esm\n",
        "model, alphabet = esm.pretrained.esm_if1_gvp4_t16_142M_UR50()\n",
        "# use eval mode for deterministic output e.g. without random dropout\n",
        "model = model.cuda().eval()\n",
        "# model, alphabet = esm.pretrained.esm_if1_gvp4_t16_142M_UR50()\n",
        "# # use eval mode for deterministic output e.g. without random dropout\n",
        "# model = model.eval()"
      ]
    },
    {
      "cell_type": "code",
      "execution_count": null,
      "metadata": {
        "id": "XyJAcbjOO3L2"
      },
      "outputs": [],
      "source": [
        "# !pip install h5py\n",
        "# !pip install -U sentence-transformers"
      ]
    },
    {
      "cell_type": "code",
      "execution_count": null,
      "metadata": {
        "id": "zHSI4mV_OIAu"
      },
      "outputs": [],
      "source": [
        "from pathlib import Path\n",
        "import pandas as pd\n",
        "import numpy as np\n",
        "import h5py"
      ]
    },
    {
      "cell_type": "code",
      "execution_count": null,
      "metadata": {
        "id": "xdT4swV5NMbj"
      },
      "outputs": [],
      "source": [
        "# Let's start with google disk folder with preprocessed files"
      ]
    },
    {
      "cell_type": "code",
      "execution_count": null,
      "metadata": {
        "colab": {
          "base_uri": "https://localhost:8080/"
        },
        "id": "pPHNLzC4NcG_",
        "outputId": "8ae9431f-64d4-414a-92e8-5ca3edd3ceb2"
      },
      "outputs": [
        {
          "name": "stdout",
          "output_type": "stream",
          "text": [
            "Drive already mounted at /content/gdrive; to attempt to forcibly remount, call drive.mount(\"/content/gdrive\", force_remount=True).\n"
          ]
        }
      ],
      "source": [
        "from google.colab import drive\n",
        "drive.mount('/content/gdrive')"
      ]
    },
    {
      "cell_type": "code",
      "execution_count": null,
      "metadata": {
        "id": "ESMt7UmMOGli"
      },
      "outputs": [],
      "source": []
    },
    {
      "cell_type": "code",
      "execution_count": null,
      "metadata": {
        "id": "GzShVteuNrYm"
      },
      "outputs": [],
      "source": [
        "DATADIR = Path(\"/content/gdrive/MyDrive/MISATO-experiments\")\n"
      ]
    },
    {
      "cell_type": "code",
      "execution_count": null,
      "metadata": {
        "id": "0v2AnMhWOLnA"
      },
      "outputs": [],
      "source": [
        "WORKDIR = Path(\"/content/workdir\")\n",
        "WORKDIR.mkdir(exist_ok=True)\n",
        "INPUTDIR = DATADIR / \"preprocessed\"\n",
        "ESMIFDIR = DATADIR / \"esm-if-embeddings-emb\"\n",
        "ESMIFDIR.mkdir(exist_ok=True)\n",
        "# ESM2DIR = DATADIR / \"esm2-embeddings\"\n",
        "# ESM2DIR.mkdir(exist_ok=True)"
      ]
    },
    {
      "cell_type": "code",
      "execution_count": null,
      "metadata": {
        "id": "e2TuKbefTiql"
      },
      "outputs": [],
      "source": [
        "df = pd.read_csv(INPUTDIR/\"misato_sequences_info.csv\")"
      ]
    },
    {
      "cell_type": "code",
      "execution_count": null,
      "metadata": {
        "id": "vlkPqErbTqYq"
      },
      "outputs": [],
      "source": [
        "# sequences = df.sequence.unique()  #.shape, df.shape\n",
        "dff = df.groupby(\"pdbid\").max()[[\"chain\"]].reset_index()"
      ]
    },
    {
      "cell_type": "code",
      "execution_count": null,
      "metadata": {
        "id": "1VbPoUpqiqPU"
      },
      "outputs": [],
      "source": [
        "# dff.chain.value_counts()"
      ]
    },
    {
      "attachments": {},
      "cell_type": "markdown",
      "metadata": {},
      "source": [
        "Currently there is a bug at `get_encoder_output` method, so I had to modify it (sent them pull request), partially the following code might not be in use - for multichain complexes I've decided to compute the embeddings for each chain separately and not to use _concatenate_coords method. But I might use it later."
      ]
    },
    {
      "cell_type": "code",
      "execution_count": null,
      "metadata": {
        "id": "6YeBy21cfVN7"
      },
      "outputs": [],
      "source": [
        "\n",
        "def _concatenate_coords(coords, padding_length=0):\n",
        "    \"\"\"\n",
        "    Args:\n",
        "        coords: Dictionary mapping chain ids to L x 3 x 3 array for N, CA, C\n",
        "            coordinates representing the backbone of each chain\n",
        "        target_chain_id: The chain id to sample sequences for\n",
        "        padding_length: Length of padding between concatenated chains\n",
        "    Returns:\n",
        "        Tuple (coords, seq)\n",
        "            - coords is an L x 3 x 3 array for N, CA, C coordinates, a\n",
        "              concatenation of the chains with padding in between\n",
        "            - seq is the extracted sequence, with padding tokens inserted\n",
        "              between the concatenated chains\n",
        "    \"\"\"\n",
        "    pad_coords = np.full((padding_length, 3, 3), np.nan, dtype=np.float32)\n",
        "    # For best performance, put the target chain first in concatenation.\n",
        "    coords_list = [] #[coords[target_chain_id]]\n",
        "    for chain_id in sorted(coords):\n",
        "        # if chain_id == target_chain_id:\n",
        "        #     continue\n",
        "        coords_list.append(pad_coords)\n",
        "        coords_list.append(coords[chain_id])\n",
        "    coords_concatenated = np.concatenate(coords_list, axis=0)\n",
        "    return coords_concatenated\n",
        "\n",
        "def get_encoder_output(model, alphabet, coords, seq=None):\n",
        "    device = next(model.parameters()).device\n",
        "    batch_converter = esm.inverse_folding.util.CoordBatchConverter(alphabet)\n",
        "    batch = [(coords, None, seq)]\n",
        "    coords, confidence, strs, tokens, padding_mask = batch_converter(\n",
        "        batch, device=device)\n",
        "    encoder_out = model.encoder.forward(coords, padding_mask, confidence,\n",
        "            return_all_hiddens=False)\n",
        "    # remove beginning and end (bos and eos tokens)\n",
        "    return encoder_out['encoder_out'][0][1:-1, 0]\n",
        "\n",
        "def get_encoder_output_for_complex(model, alphabet, coords):\n",
        "  all_coords = _concatenate_coords(coords)\n",
        "  all_rep = get_encoder_output(model, alphabet, all_coords)\n",
        "  #target_chain_len = coords[target_chain_id].shape[0]\n",
        "  # return all_rep[:target_chain_len]\n",
        "  return all_rep\n",
        "\n",
        "\n",
        "# target_chain_id = 'A'\n",
        "# rep = get_encoder_output_for_complex(model, alphabet, coords)\n",
        "# len(coords[target_chain_id]), rep.shape, [coords[k].shape for k in coords.keys()]"
      ]
    },
    {
      "cell_type": "code",
      "execution_count": null,
      "metadata": {
        "id": "K0_e5nz3hpq8"
      },
      "outputs": [],
      "source": [
        "# all_coords = esm.inverse_folding.multichain_util._concatenate_coords(coords, target_chain_id)\n"
      ]
    },
    {
      "cell_type": "code",
      "execution_count": null,
      "metadata": {
        "id": "6HSkmPmKkDhp"
      },
      "outputs": [],
      "source": [
        "# all_coords.shape"
      ]
    },
    {
      "cell_type": "code",
      "execution_count": null,
      "metadata": {
        "colab": {
          "base_uri": "https://localhost:8080/"
        },
        "id": "hI3LTtmfkDOI",
        "outputId": "7fcb55a0-1424-42ae-b986-0c99f291635a"
      },
      "outputs": [
        {
          "data": {
            "text/plain": [
              "device(type='cuda', index=0)"
            ]
          },
          "execution_count": 18,
          "metadata": {},
          "output_type": "execute_result"
        }
      ],
      "source": [
        "next(model.parameters()).device"
      ]
    },
    {
      "cell_type": "code",
      "execution_count": null,
      "metadata": {
        "colab": {
          "base_uri": "https://localhost:8080/"
        },
        "id": "jORuo5U8hb94",
        "outputId": "bf95de09-1930-4cc1-cd87-7da7b2bf5d1f"
      },
      "outputs": [
        {
          "name": "stdout",
          "output_type": "stream",
          "text": [
            "md_esm_if_0_5000.hdf5  md_esm_if_5000_10000.hdf5  misato_sequences_info.csv\n",
            "md_esm_if_10000_.hdf5  md_test_out.hdf5\n"
          ]
        }
      ],
      "source": [
        "# len(coords[target_chain_id]), rep.shape, np.sum([len(coords[k]) for k in coords.keys()])\n",
        "!ls {INPUTDIR}"
      ]
    },
    {
      "cell_type": "code",
      "execution_count": null,
      "metadata": {
        "id": "ccbg1mAeObLd"
      },
      "outputs": [],
      "source": [
        "h5files = [\n",
        "    # \"md_test_out.hdf5\"\n",
        "    \"md_esm_if_0_5000.hdf5\",\n",
        "    \"md_esm_if_5000_10000.hdf5\",\n",
        "    \"md_esm_if_10000_.hdf5\"\n",
        "]\n",
        "# during the preprocess I've stored all the data in 3 smaller parts, \n",
        "# to be able to start writing the processing script for the embeddings\n",
        "# extraction while my data is still being processed\n",
        "data = dict()\n",
        "for filename in h5files:\n",
        "  h5path = INPUTDIR / filename\n",
        "  \n",
        "  with h5py.File(h5path) as f:\n",
        "    for pdbid in f.keys():\n",
        "      data[pdbid] = f[pdbid][()]\n",
        "\n"
      ]
    },
    {
      "cell_type": "code",
      "execution_count": null,
      "metadata": {
        "id": "4COtHX-Fkb09"
      },
      "outputs": [],
      "source": [
        "df['seqlen'] = df.sequence.apply(len)"
      ]
    },
    {
      "cell_type": "code",
      "execution_count": null,
      "metadata": {
        "id": "DSqDCKDyk0v_"
      },
      "outputs": [],
      "source": [
        "pdb_chain_positions = dict()\n",
        "for pdbid, row in df.groupby(\"pdbid\"):\n",
        "  row = row[row.full==0]\n",
        "  chain_lengths = {chain: seqlen for chain, seqlen in row[[\"chain\", \"seqlen\"]].values}\n",
        "  start = 0\n",
        "  positions = []\n",
        "  for chain in sorted(row.chain):\n",
        "    offset = chain_lengths[chain]\n",
        "    positions.append((chain, start, start + offset))\n",
        "    start+=offset\n",
        "  pdb_chain_positions[pdbid] = positions\n",
        "\n",
        "# row"
      ]
    },
    {
      "cell_type": "code",
      "execution_count": null,
      "metadata": {
        "id": "Gf2FprZTnVcu"
      },
      "outputs": [],
      "source": [
        "SAVEDIR = ESMIFDIR / \"npz_frame0\" # change the folder to \"npz\" for all the frames\n",
        "SAVEDIR.mkdir(exist_ok=True)"
      ]
    },
    {
      "attachments": {},
      "cell_type": "markdown",
      "metadata": {},
      "source": [
        "The method `get_encoder_output_modified` given below tries to produce embeddings in batches for each structure, if the nframes > 1, otherwise it just returns the embeddings (separate arrays for each chain) for the structure in the frame 0."
      ]
    },
    {
      "cell_type": "code",
      "execution_count": null,
      "metadata": {
        "id": "ry6MQa24sMLh"
      },
      "outputs": [],
      "source": [
        "\n",
        "\n",
        "\n",
        "batch_converter = esm.inverse_folding.util.CoordBatchConverter(alphabet)\n",
        "\n",
        "\n",
        "def get_encoder_output_modified(model, alphabet, all_coords, batch_size=8, nframes=1):\n",
        "    \n",
        "    device = next(model.parameters()).device\n",
        "    # batch_converter = esm.inverse_folding.util.CoordBatchConverter(alphabet)\n",
        "    outputs = []\n",
        "    for i in range(0, nframes, batch_size):#, total=all_coords.shape[0]//batch_size):\n",
        "      batch = []\n",
        "      total = min(all_coords[i:i+batch_size].shape[0], nframes)\n",
        "      for j in range(min(batch_size, total)):\n",
        "        batch.append((all_coords[j], None, None))\n",
        "      # print(len(batch))\n",
        "      #batch = [(coords, None, None)]\n",
        "      coords, confidence, strs, tokens, padding_mask = batch_converter(\n",
        "        batch, device=device)\n",
        "      with torch.no_grad():\n",
        "        x, components = model.encoder.forward_embedding(coords, padding_mask, confidence)\n",
        "      # remove beginning and end (bos and eos tokens)\n",
        "      # print(len(encoder_out['encoder_out']), list(encoder_out))\n",
        "      # print(encoder_out['encoder_embedding'][0].shape)\n",
        "      #out = encoder_out['encoder_out'][0][1:-1, :].detach().cpu().numpy()\n",
        "      #out = np.swapaxes(out, 0, 1)\n",
        "      #out = [o[1:-1, 0].detach().cpu().numpy() in encoder_out['encoder_out']]\n",
        "      outputs.append(x.detach().cpu().numpy())\n",
        "      #del encoder_out\n",
        "      del x, components\n",
        "      del coords, confidence, strs, tokens, padding_mask\n",
        "      # break\n",
        "    # del batch_converter\n",
        "    return outputs"
      ]
    },
    {
      "cell_type": "code",
      "execution_count": null,
      "metadata": {
        "id": "CSUy8479KE-W"
      },
      "outputs": [],
      "source": [
        "dff = df.groupby(\"pdbid\").max()[[\"chain\", \"split_name\", \"seqlen\"]]\n",
        "# dff[dff.chain == 0].seqlen.mean()#.split_name.value_counts()\n",
        "sel_pdbids = set(dff[dff.chain == 0 ].index)#, dff[dff.chain != 0].shape"
      ]
    },
    {
      "cell_type": "code",
      "execution_count": null,
      "metadata": {
        "colab": {
          "base_uri": "https://localhost:8080/",
          "height": 421,
          "referenced_widgets": [
            "6fca8864d9404965a4bff41a36e0986b",
            "00fd4b448a8e446c95f38c902c063893",
            "625a1a7f048b4929b833a6c1589b2149",
            "7680cf25f34e4fed9079f9779b9f55fd",
            "d8f8836da184422182637f24a3143199",
            "e7f4677cb04f43a4b0bb696199e8ce0d",
            "d762768a0ac8436b9b15a9575f60191f",
            "aceeb1e2366c48799cd6e96513ca0343",
            "ff2500eb5f69441e81d176b3467d7d86",
            "9724389fe96b4a2a91fe9cb2823b892f",
            "cf66559f760543e59c257d705d1bbe44"
          ]
        },
        "id": "N8-NcQ7flf-A",
        "outputId": "792e16cd-e63d-4734-c29a-4d412a71def1"
      },
      "outputs": [
        {
          "data": {
            "application/vnd.jupyter.widget-view+json": {
              "model_id": "6fca8864d9404965a4bff41a36e0986b",
              "version_major": 2,
              "version_minor": 0
            },
            "text/plain": [
              "  0%|          | 0/14453 [00:00<?, ?it/s]"
            ]
          },
          "metadata": {},
          "output_type": "display_data"
        },
        {
          "ename": "KeyboardInterrupt",
          "evalue": "ignored",
          "output_type": "error",
          "traceback": [
            "\u001b[0;31m---------------------------------------------------------------------------\u001b[0m",
            "\u001b[0;31mKeyboardInterrupt\u001b[0m                         Traceback (most recent call last)",
            "\u001b[0;32m<ipython-input-134-f79d97ce7ea7>\u001b[0m in \u001b[0;36m<cell line: 5>\u001b[0;34m()\u001b[0m\n\u001b[1;32m     21\u001b[0m     \u001b[0mcoords\u001b[0m \u001b[0;34m=\u001b[0m \u001b[0mtrajectory\u001b[0m\u001b[0;34m[\u001b[0m\u001b[0;34m:\u001b[0m\u001b[0;34m,\u001b[0m \u001b[0mb\u001b[0m\u001b[0;34m:\u001b[0m\u001b[0me\u001b[0m\u001b[0;34m]\u001b[0m\u001b[0;34m\u001b[0m\u001b[0;34m\u001b[0m\u001b[0m\n\u001b[1;32m     22\u001b[0m     \u001b[0;32mwith\u001b[0m \u001b[0mtorch\u001b[0m\u001b[0;34m.\u001b[0m\u001b[0mno_grad\u001b[0m\u001b[0;34m(\u001b[0m\u001b[0;34m)\u001b[0m\u001b[0;34m:\u001b[0m\u001b[0;34m\u001b[0m\u001b[0;34m\u001b[0m\u001b[0m\n\u001b[0;32m---> 23\u001b[0;31m       \u001b[0mrep\u001b[0m \u001b[0;34m=\u001b[0m \u001b[0mget_encoder_output3\u001b[0m\u001b[0;34m(\u001b[0m\u001b[0mmodel\u001b[0m\u001b[0;34m,\u001b[0m \u001b[0malphabet\u001b[0m\u001b[0;34m,\u001b[0m \u001b[0mcoords\u001b[0m\u001b[0;34m,\u001b[0m \u001b[0mbatch_size\u001b[0m\u001b[0;34m=\u001b[0m\u001b[0;36m4\u001b[0m\u001b[0;34m,\u001b[0m \u001b[0mnframes\u001b[0m\u001b[0;34m=\u001b[0m\u001b[0;36m100\u001b[0m\u001b[0;34m)\u001b[0m\u001b[0;34m\u001b[0m\u001b[0;34m\u001b[0m\u001b[0m\n\u001b[0m\u001b[1;32m     24\u001b[0m     \u001b[0;31m# frame_data = []\u001b[0m\u001b[0;34m\u001b[0m\u001b[0;34m\u001b[0m\u001b[0m\n\u001b[1;32m     25\u001b[0m     \u001b[0;31m# for frame in range(100):\u001b[0m\u001b[0;34m\u001b[0m\u001b[0;34m\u001b[0m\u001b[0m\n",
            "\u001b[0;32m<ipython-input-132-5879229665cb>\u001b[0m in \u001b[0;36mget_encoder_output3\u001b[0;34m(model, alphabet, all_coords, batch_size, nframes)\u001b[0m\n\u001b[1;32m     42\u001b[0m         batch, device=device)\n\u001b[1;32m     43\u001b[0m       \u001b[0;32mwith\u001b[0m \u001b[0mtorch\u001b[0m\u001b[0;34m.\u001b[0m\u001b[0mno_grad\u001b[0m\u001b[0;34m(\u001b[0m\u001b[0;34m)\u001b[0m\u001b[0;34m:\u001b[0m\u001b[0;34m\u001b[0m\u001b[0;34m\u001b[0m\u001b[0m\n\u001b[0;32m---> 44\u001b[0;31m         \u001b[0mx\u001b[0m\u001b[0;34m,\u001b[0m \u001b[0mcomponents\u001b[0m \u001b[0;34m=\u001b[0m \u001b[0mmodel\u001b[0m\u001b[0;34m.\u001b[0m\u001b[0mencoder\u001b[0m\u001b[0;34m.\u001b[0m\u001b[0mforward_embedding\u001b[0m\u001b[0;34m(\u001b[0m\u001b[0mcoords\u001b[0m\u001b[0;34m,\u001b[0m \u001b[0mpadding_mask\u001b[0m\u001b[0;34m,\u001b[0m \u001b[0mconfidence\u001b[0m\u001b[0;34m)\u001b[0m\u001b[0;34m\u001b[0m\u001b[0;34m\u001b[0m\u001b[0m\n\u001b[0m\u001b[1;32m     45\u001b[0m       \u001b[0;31m# remove beginning and end (bos and eos tokens)\u001b[0m\u001b[0;34m\u001b[0m\u001b[0;34m\u001b[0m\u001b[0m\n\u001b[1;32m     46\u001b[0m       \u001b[0;31m# print(len(encoder_out['encoder_out']), list(encoder_out))\u001b[0m\u001b[0;34m\u001b[0m\u001b[0;34m\u001b[0m\u001b[0m\n",
            "\u001b[0;32m/usr/local/lib/python3.10/dist-packages/esm/inverse_folding/gvp_transformer_encoder.py\u001b[0m in \u001b[0;36mforward_embedding\u001b[0;34m(self, coords, padding_mask, confidence)\u001b[0m\n\u001b[1;32m     91\u001b[0m         gvp_out_scalars, gvp_out_vectors = self.gvp_encoder(coords,\n\u001b[1;32m     92\u001b[0m                 coord_mask, padding_mask, confidence)\n\u001b[0;32m---> 93\u001b[0;31m         \u001b[0mR\u001b[0m \u001b[0;34m=\u001b[0m \u001b[0mget_rotation_frames\u001b[0m\u001b[0;34m(\u001b[0m\u001b[0mcoords\u001b[0m\u001b[0;34m)\u001b[0m\u001b[0;34m\u001b[0m\u001b[0;34m\u001b[0m\u001b[0m\n\u001b[0m\u001b[1;32m     94\u001b[0m         \u001b[0;31m# Rotate to local rotation frame for rotation-invariance\u001b[0m\u001b[0;34m\u001b[0m\u001b[0;34m\u001b[0m\u001b[0m\n\u001b[1;32m     95\u001b[0m         gvp_out_features = torch.cat([\n",
            "\u001b[0;32m/usr/local/lib/python3.10/dist-packages/esm/inverse_folding/util.py\u001b[0m in \u001b[0;36mget_rotation_frames\u001b[0;34m(coords)\u001b[0m\n\u001b[1;32m    173\u001b[0m     \u001b[0mv1\u001b[0m \u001b[0;34m=\u001b[0m \u001b[0mcoords\u001b[0m\u001b[0;34m[\u001b[0m\u001b[0;34m:\u001b[0m\u001b[0;34m,\u001b[0m \u001b[0;34m:\u001b[0m\u001b[0;34m,\u001b[0m \u001b[0;36m2\u001b[0m\u001b[0;34m]\u001b[0m \u001b[0;34m-\u001b[0m \u001b[0mcoords\u001b[0m\u001b[0;34m[\u001b[0m\u001b[0;34m:\u001b[0m\u001b[0;34m,\u001b[0m \u001b[0;34m:\u001b[0m\u001b[0;34m,\u001b[0m \u001b[0;36m1\u001b[0m\u001b[0;34m]\u001b[0m\u001b[0;34m\u001b[0m\u001b[0;34m\u001b[0m\u001b[0m\n\u001b[1;32m    174\u001b[0m     \u001b[0mv2\u001b[0m \u001b[0;34m=\u001b[0m \u001b[0mcoords\u001b[0m\u001b[0;34m[\u001b[0m\u001b[0;34m:\u001b[0m\u001b[0;34m,\u001b[0m \u001b[0;34m:\u001b[0m\u001b[0;34m,\u001b[0m \u001b[0;36m0\u001b[0m\u001b[0;34m]\u001b[0m \u001b[0;34m-\u001b[0m \u001b[0mcoords\u001b[0m\u001b[0;34m[\u001b[0m\u001b[0;34m:\u001b[0m\u001b[0;34m,\u001b[0m \u001b[0;34m:\u001b[0m\u001b[0;34m,\u001b[0m \u001b[0;36m1\u001b[0m\u001b[0;34m]\u001b[0m\u001b[0;34m\u001b[0m\u001b[0;34m\u001b[0m\u001b[0m\n\u001b[0;32m--> 175\u001b[0;31m     \u001b[0me1\u001b[0m \u001b[0;34m=\u001b[0m \u001b[0mnormalize\u001b[0m\u001b[0;34m(\u001b[0m\u001b[0mv1\u001b[0m\u001b[0;34m,\u001b[0m \u001b[0mdim\u001b[0m\u001b[0;34m=\u001b[0m\u001b[0;34m-\u001b[0m\u001b[0;36m1\u001b[0m\u001b[0;34m)\u001b[0m\u001b[0;34m\u001b[0m\u001b[0;34m\u001b[0m\u001b[0m\n\u001b[0m\u001b[1;32m    176\u001b[0m     \u001b[0mu2\u001b[0m \u001b[0;34m=\u001b[0m \u001b[0mv2\u001b[0m \u001b[0;34m-\u001b[0m \u001b[0me1\u001b[0m \u001b[0;34m*\u001b[0m \u001b[0mtorch\u001b[0m\u001b[0;34m.\u001b[0m\u001b[0msum\u001b[0m\u001b[0;34m(\u001b[0m\u001b[0me1\u001b[0m \u001b[0;34m*\u001b[0m \u001b[0mv2\u001b[0m\u001b[0;34m,\u001b[0m \u001b[0mdim\u001b[0m\u001b[0;34m=\u001b[0m\u001b[0;34m-\u001b[0m\u001b[0;36m1\u001b[0m\u001b[0;34m,\u001b[0m \u001b[0mkeepdim\u001b[0m\u001b[0;34m=\u001b[0m\u001b[0;32mTrue\u001b[0m\u001b[0;34m)\u001b[0m\u001b[0;34m\u001b[0m\u001b[0;34m\u001b[0m\u001b[0m\n\u001b[1;32m    177\u001b[0m     \u001b[0me2\u001b[0m \u001b[0;34m=\u001b[0m \u001b[0mnormalize\u001b[0m\u001b[0;34m(\u001b[0m\u001b[0mu2\u001b[0m\u001b[0;34m,\u001b[0m \u001b[0mdim\u001b[0m\u001b[0;34m=\u001b[0m\u001b[0;34m-\u001b[0m\u001b[0;36m1\u001b[0m\u001b[0;34m)\u001b[0m\u001b[0;34m\u001b[0m\u001b[0;34m\u001b[0m\u001b[0m\n",
            "\u001b[0;32m/usr/local/lib/python3.10/dist-packages/esm/inverse_folding/util.py\u001b[0m in \u001b[0;36mnormalize\u001b[0;34m(tensor, dim)\u001b[0m\n\u001b[1;32m    213\u001b[0m     \u001b[0mNormalizes\u001b[0m \u001b[0ma\u001b[0m \u001b[0mtensor\u001b[0m \u001b[0malong\u001b[0m \u001b[0ma\u001b[0m \u001b[0mdimension\u001b[0m \u001b[0mafter\u001b[0m \u001b[0mremoving\u001b[0m \u001b[0mnans\u001b[0m\u001b[0;34m.\u001b[0m\u001b[0;34m\u001b[0m\u001b[0;34m\u001b[0m\u001b[0m\n\u001b[1;32m    214\u001b[0m     \"\"\"\n\u001b[0;32m--> 215\u001b[0;31m     return nan_to_num(\n\u001b[0m\u001b[1;32m    216\u001b[0m         \u001b[0mtorch\u001b[0m\u001b[0;34m.\u001b[0m\u001b[0mdiv\u001b[0m\u001b[0;34m(\u001b[0m\u001b[0mtensor\u001b[0m\u001b[0;34m,\u001b[0m \u001b[0mnorm\u001b[0m\u001b[0;34m(\u001b[0m\u001b[0mtensor\u001b[0m\u001b[0;34m,\u001b[0m \u001b[0mdim\u001b[0m\u001b[0;34m=\u001b[0m\u001b[0mdim\u001b[0m\u001b[0;34m,\u001b[0m \u001b[0mkeepdim\u001b[0m\u001b[0;34m=\u001b[0m\u001b[0;32mTrue\u001b[0m\u001b[0;34m)\u001b[0m\u001b[0;34m)\u001b[0m\u001b[0;34m\u001b[0m\u001b[0;34m\u001b[0m\u001b[0m\n\u001b[1;32m    217\u001b[0m     )\n",
            "\u001b[0;32m/usr/local/lib/python3.10/dist-packages/esm/inverse_folding/util.py\u001b[0m in \u001b[0;36mnan_to_num\u001b[0;34m(ts, val)\u001b[0m\n\u001b[1;32m    185\u001b[0m     \u001b[0mReplaces\u001b[0m \u001b[0mnans\u001b[0m \u001b[0;32min\u001b[0m \u001b[0mtensor\u001b[0m \u001b[0;32mwith\u001b[0m \u001b[0ma\u001b[0m \u001b[0mfixed\u001b[0m \u001b[0mvalue\u001b[0m\u001b[0;34m.\u001b[0m\u001b[0;34m\u001b[0m\u001b[0;34m\u001b[0m\u001b[0m\n\u001b[1;32m    186\u001b[0m     \"\"\"\n\u001b[0;32m--> 187\u001b[0;31m     \u001b[0mval\u001b[0m \u001b[0;34m=\u001b[0m \u001b[0mtorch\u001b[0m\u001b[0;34m.\u001b[0m\u001b[0mtensor\u001b[0m\u001b[0;34m(\u001b[0m\u001b[0mval\u001b[0m\u001b[0;34m,\u001b[0m \u001b[0mdtype\u001b[0m\u001b[0;34m=\u001b[0m\u001b[0mts\u001b[0m\u001b[0;34m.\u001b[0m\u001b[0mdtype\u001b[0m\u001b[0;34m,\u001b[0m \u001b[0mdevice\u001b[0m\u001b[0;34m=\u001b[0m\u001b[0mts\u001b[0m\u001b[0;34m.\u001b[0m\u001b[0mdevice\u001b[0m\u001b[0;34m)\u001b[0m\u001b[0;34m\u001b[0m\u001b[0;34m\u001b[0m\u001b[0m\n\u001b[0m\u001b[1;32m    188\u001b[0m     \u001b[0;32mreturn\u001b[0m \u001b[0mtorch\u001b[0m\u001b[0;34m.\u001b[0m\u001b[0mwhere\u001b[0m\u001b[0;34m(\u001b[0m\u001b[0;34m~\u001b[0m\u001b[0mtorch\u001b[0m\u001b[0;34m.\u001b[0m\u001b[0misfinite\u001b[0m\u001b[0;34m(\u001b[0m\u001b[0mts\u001b[0m\u001b[0;34m)\u001b[0m\u001b[0;34m,\u001b[0m \u001b[0mval\u001b[0m\u001b[0;34m,\u001b[0m \u001b[0mts\u001b[0m\u001b[0;34m)\u001b[0m\u001b[0;34m\u001b[0m\u001b[0;34m\u001b[0m\u001b[0m\n\u001b[1;32m    189\u001b[0m \u001b[0;34m\u001b[0m\u001b[0m\n",
            "\u001b[0;31mKeyboardInterrupt\u001b[0m: "
          ]
        }
      ],
      "source": [
        "from tqdm.auto import tqdm\n",
        "counter = 0 \n",
        "pdbids = sorted(set(data.keys()) & sel_pdbids)\n",
        "# for pdbid in tqdm(data.keys(), total=len(data.keys())):\n",
        "for pdbid in tqdm(pdbids, total=len(pdbids)):\n",
        "  counter+=1\n",
        "  if counter > 300:\n",
        "    break\n",
        "  if len(pdb_chain_positions[pdbid]) > 1:\n",
        "    continue\n",
        "  path = SAVEDIR / f\"{pdbid}.npz\"\n",
        "  if path.exists():\n",
        "    continue\n",
        "  if not pdbid in pdb_chain_positions:\n",
        "    print(f\"{pdbid} not in pdb_chain_positions\")\n",
        "    continue\n",
        "  trajectory = np.asarray(data[pdbid]).astype(np.float32)\n",
        "  \n",
        "  chain_embeddings = dict()\n",
        "  for chain, b, e in (pdb_chain_positions[pdbid]):\n",
        "    coords = trajectory[:, b:e]\n",
        "    with torch.no_grad():\n",
        "      rep = get_encoder_output_modified(model, alphabet, coords, batch_size=4, nframes=100)\n",
        "    # frame_data = []\n",
        "    # for frame in range(100):\n",
        "    #   coords = trajectory[frame, b:e]\n",
        "    \n",
        "    #   rep = get_encoder_output(model, alphabet, coords).detach().cpu().numpy()\n",
        "    \n",
        "    #   frame_data.append(rep)\n",
        "    frame_data = np.concatenate(rep)  #np.stack(frame_data)\n",
        "    chain_embeddings[str(chain)] = frame_data\n",
        "    # break\n",
        "\n",
        "  np.savez_compressed(path, **chain_embeddings)\n",
        "  torch.cuda.empty_cache()\n",
        "\n",
        "  # break"
      ]
    },
    {
      "cell_type": "code",
      "execution_count": null,
      "metadata": {
        "id": "1Mt1BYBFXyg0"
      },
      "outputs": [],
      "source": []
    }
  ],
  "metadata": {
    "accelerator": "GPU",
    "colab": {
      "gpuType": "A100",
      "machine_shape": "hm",
      "provenance": []
    },
    "kernelspec": {
      "display_name": "Python 3",
      "name": "python3"
    },
    "language_info": {
      "name": "python"
    },
    "widgets": {
      "application/vnd.jupyter.widget-state+json": {
        "00fd4b448a8e446c95f38c902c063893": {
          "model_module": "@jupyter-widgets/controls",
          "model_module_version": "1.5.0",
          "model_name": "HTMLModel",
          "state": {
            "_dom_classes": [],
            "_model_module": "@jupyter-widgets/controls",
            "_model_module_version": "1.5.0",
            "_model_name": "HTMLModel",
            "_view_count": null,
            "_view_module": "@jupyter-widgets/controls",
            "_view_module_version": "1.5.0",
            "_view_name": "HTMLView",
            "description": "",
            "description_tooltip": null,
            "layout": "IPY_MODEL_e7f4677cb04f43a4b0bb696199e8ce0d",
            "placeholder": "​",
            "style": "IPY_MODEL_d762768a0ac8436b9b15a9575f60191f",
            "value": "  2%"
          }
        },
        "625a1a7f048b4929b833a6c1589b2149": {
          "model_module": "@jupyter-widgets/controls",
          "model_module_version": "1.5.0",
          "model_name": "FloatProgressModel",
          "state": {
            "_dom_classes": [],
            "_model_module": "@jupyter-widgets/controls",
            "_model_module_version": "1.5.0",
            "_model_name": "FloatProgressModel",
            "_view_count": null,
            "_view_module": "@jupyter-widgets/controls",
            "_view_module_version": "1.5.0",
            "_view_name": "ProgressView",
            "bar_style": "danger",
            "description": "",
            "description_tooltip": null,
            "layout": "IPY_MODEL_aceeb1e2366c48799cd6e96513ca0343",
            "max": 14453,
            "min": 0,
            "orientation": "horizontal",
            "style": "IPY_MODEL_ff2500eb5f69441e81d176b3467d7d86",
            "value": 253
          }
        },
        "6fca8864d9404965a4bff41a36e0986b": {
          "model_module": "@jupyter-widgets/controls",
          "model_module_version": "1.5.0",
          "model_name": "HBoxModel",
          "state": {
            "_dom_classes": [],
            "_model_module": "@jupyter-widgets/controls",
            "_model_module_version": "1.5.0",
            "_model_name": "HBoxModel",
            "_view_count": null,
            "_view_module": "@jupyter-widgets/controls",
            "_view_module_version": "1.5.0",
            "_view_name": "HBoxView",
            "box_style": "",
            "children": [
              "IPY_MODEL_00fd4b448a8e446c95f38c902c063893",
              "IPY_MODEL_625a1a7f048b4929b833a6c1589b2149",
              "IPY_MODEL_7680cf25f34e4fed9079f9779b9f55fd"
            ],
            "layout": "IPY_MODEL_d8f8836da184422182637f24a3143199"
          }
        },
        "7680cf25f34e4fed9079f9779b9f55fd": {
          "model_module": "@jupyter-widgets/controls",
          "model_module_version": "1.5.0",
          "model_name": "HTMLModel",
          "state": {
            "_dom_classes": [],
            "_model_module": "@jupyter-widgets/controls",
            "_model_module_version": "1.5.0",
            "_model_name": "HTMLModel",
            "_view_count": null,
            "_view_module": "@jupyter-widgets/controls",
            "_view_module_version": "1.5.0",
            "_view_name": "HTMLView",
            "description": "",
            "description_tooltip": null,
            "layout": "IPY_MODEL_9724389fe96b4a2a91fe9cb2823b892f",
            "placeholder": "​",
            "style": "IPY_MODEL_cf66559f760543e59c257d705d1bbe44",
            "value": " 253/14453 [03:55&lt;25:40:33,  6.51s/it]"
          }
        },
        "9724389fe96b4a2a91fe9cb2823b892f": {
          "model_module": "@jupyter-widgets/base",
          "model_module_version": "1.2.0",
          "model_name": "LayoutModel",
          "state": {
            "_model_module": "@jupyter-widgets/base",
            "_model_module_version": "1.2.0",
            "_model_name": "LayoutModel",
            "_view_count": null,
            "_view_module": "@jupyter-widgets/base",
            "_view_module_version": "1.2.0",
            "_view_name": "LayoutView",
            "align_content": null,
            "align_items": null,
            "align_self": null,
            "border": null,
            "bottom": null,
            "display": null,
            "flex": null,
            "flex_flow": null,
            "grid_area": null,
            "grid_auto_columns": null,
            "grid_auto_flow": null,
            "grid_auto_rows": null,
            "grid_column": null,
            "grid_gap": null,
            "grid_row": null,
            "grid_template_areas": null,
            "grid_template_columns": null,
            "grid_template_rows": null,
            "height": null,
            "justify_content": null,
            "justify_items": null,
            "left": null,
            "margin": null,
            "max_height": null,
            "max_width": null,
            "min_height": null,
            "min_width": null,
            "object_fit": null,
            "object_position": null,
            "order": null,
            "overflow": null,
            "overflow_x": null,
            "overflow_y": null,
            "padding": null,
            "right": null,
            "top": null,
            "visibility": null,
            "width": null
          }
        },
        "aceeb1e2366c48799cd6e96513ca0343": {
          "model_module": "@jupyter-widgets/base",
          "model_module_version": "1.2.0",
          "model_name": "LayoutModel",
          "state": {
            "_model_module": "@jupyter-widgets/base",
            "_model_module_version": "1.2.0",
            "_model_name": "LayoutModel",
            "_view_count": null,
            "_view_module": "@jupyter-widgets/base",
            "_view_module_version": "1.2.0",
            "_view_name": "LayoutView",
            "align_content": null,
            "align_items": null,
            "align_self": null,
            "border": null,
            "bottom": null,
            "display": null,
            "flex": null,
            "flex_flow": null,
            "grid_area": null,
            "grid_auto_columns": null,
            "grid_auto_flow": null,
            "grid_auto_rows": null,
            "grid_column": null,
            "grid_gap": null,
            "grid_row": null,
            "grid_template_areas": null,
            "grid_template_columns": null,
            "grid_template_rows": null,
            "height": null,
            "justify_content": null,
            "justify_items": null,
            "left": null,
            "margin": null,
            "max_height": null,
            "max_width": null,
            "min_height": null,
            "min_width": null,
            "object_fit": null,
            "object_position": null,
            "order": null,
            "overflow": null,
            "overflow_x": null,
            "overflow_y": null,
            "padding": null,
            "right": null,
            "top": null,
            "visibility": null,
            "width": null
          }
        },
        "cf66559f760543e59c257d705d1bbe44": {
          "model_module": "@jupyter-widgets/controls",
          "model_module_version": "1.5.0",
          "model_name": "DescriptionStyleModel",
          "state": {
            "_model_module": "@jupyter-widgets/controls",
            "_model_module_version": "1.5.0",
            "_model_name": "DescriptionStyleModel",
            "_view_count": null,
            "_view_module": "@jupyter-widgets/base",
            "_view_module_version": "1.2.0",
            "_view_name": "StyleView",
            "description_width": ""
          }
        },
        "d762768a0ac8436b9b15a9575f60191f": {
          "model_module": "@jupyter-widgets/controls",
          "model_module_version": "1.5.0",
          "model_name": "DescriptionStyleModel",
          "state": {
            "_model_module": "@jupyter-widgets/controls",
            "_model_module_version": "1.5.0",
            "_model_name": "DescriptionStyleModel",
            "_view_count": null,
            "_view_module": "@jupyter-widgets/base",
            "_view_module_version": "1.2.0",
            "_view_name": "StyleView",
            "description_width": ""
          }
        },
        "d8f8836da184422182637f24a3143199": {
          "model_module": "@jupyter-widgets/base",
          "model_module_version": "1.2.0",
          "model_name": "LayoutModel",
          "state": {
            "_model_module": "@jupyter-widgets/base",
            "_model_module_version": "1.2.0",
            "_model_name": "LayoutModel",
            "_view_count": null,
            "_view_module": "@jupyter-widgets/base",
            "_view_module_version": "1.2.0",
            "_view_name": "LayoutView",
            "align_content": null,
            "align_items": null,
            "align_self": null,
            "border": null,
            "bottom": null,
            "display": null,
            "flex": null,
            "flex_flow": null,
            "grid_area": null,
            "grid_auto_columns": null,
            "grid_auto_flow": null,
            "grid_auto_rows": null,
            "grid_column": null,
            "grid_gap": null,
            "grid_row": null,
            "grid_template_areas": null,
            "grid_template_columns": null,
            "grid_template_rows": null,
            "height": null,
            "justify_content": null,
            "justify_items": null,
            "left": null,
            "margin": null,
            "max_height": null,
            "max_width": null,
            "min_height": null,
            "min_width": null,
            "object_fit": null,
            "object_position": null,
            "order": null,
            "overflow": null,
            "overflow_x": null,
            "overflow_y": null,
            "padding": null,
            "right": null,
            "top": null,
            "visibility": null,
            "width": null
          }
        },
        "e7f4677cb04f43a4b0bb696199e8ce0d": {
          "model_module": "@jupyter-widgets/base",
          "model_module_version": "1.2.0",
          "model_name": "LayoutModel",
          "state": {
            "_model_module": "@jupyter-widgets/base",
            "_model_module_version": "1.2.0",
            "_model_name": "LayoutModel",
            "_view_count": null,
            "_view_module": "@jupyter-widgets/base",
            "_view_module_version": "1.2.0",
            "_view_name": "LayoutView",
            "align_content": null,
            "align_items": null,
            "align_self": null,
            "border": null,
            "bottom": null,
            "display": null,
            "flex": null,
            "flex_flow": null,
            "grid_area": null,
            "grid_auto_columns": null,
            "grid_auto_flow": null,
            "grid_auto_rows": null,
            "grid_column": null,
            "grid_gap": null,
            "grid_row": null,
            "grid_template_areas": null,
            "grid_template_columns": null,
            "grid_template_rows": null,
            "height": null,
            "justify_content": null,
            "justify_items": null,
            "left": null,
            "margin": null,
            "max_height": null,
            "max_width": null,
            "min_height": null,
            "min_width": null,
            "object_fit": null,
            "object_position": null,
            "order": null,
            "overflow": null,
            "overflow_x": null,
            "overflow_y": null,
            "padding": null,
            "right": null,
            "top": null,
            "visibility": null,
            "width": null
          }
        },
        "ff2500eb5f69441e81d176b3467d7d86": {
          "model_module": "@jupyter-widgets/controls",
          "model_module_version": "1.5.0",
          "model_name": "ProgressStyleModel",
          "state": {
            "_model_module": "@jupyter-widgets/controls",
            "_model_module_version": "1.5.0",
            "_model_name": "ProgressStyleModel",
            "_view_count": null,
            "_view_module": "@jupyter-widgets/base",
            "_view_module_version": "1.2.0",
            "_view_name": "StyleView",
            "bar_color": null,
            "description_width": ""
          }
        }
      }
    }
  },
  "nbformat": 4,
  "nbformat_minor": 0
}
