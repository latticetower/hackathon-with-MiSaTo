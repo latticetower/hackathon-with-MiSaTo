{
 "cells": [
  {
   "cell_type": "code",
   "execution_count": 31,
   "metadata": {},
   "outputs": [],
   "source": [
    "import pandas as pd\n",
    "import numpy as np\n",
    "from pathlib import Path\n",
    "from tqdm.auto import tqdm\n",
    "import ray\n",
    "import h5py"
   ]
  },
  {
   "cell_type": "code",
   "execution_count": 13,
   "metadata": {},
   "outputs": [],
   "source": [
    "# trajectory_coordinates_prepared\n",
    "def align_frame_to_ref(trajectory_coordinates, varframe, coord_ref):\n",
    "    \"\"\"\n",
    "    Gets coordinates, translates by centroid and rotates by rotation matrix R\n",
    "    \"\"\"\n",
    "    coord_var = trajectory_coordinates[varframe]\n",
    "    trans = centroid(coord_ref)\n",
    "    coord_var_cen = coord_var - centroid(coord_var)\n",
    "    coord_ref_cen = coord_ref - centroid(coord_ref)\n",
    "    R = kabsch(coord_var_cen, coord_ref_cen)\n",
    "    coord_var_shifted = np.dot(coord_var_cen,R) + trans\n",
    "    return coord_var_shifted\n",
    "\n",
    "def rmsd(A, B):\n",
    "    \"\"\"\n",
    "    Not used yet, but might be helpful for some applications.\n",
    "    \"\"\"\n",
    "    Coord = len(A[0])\n",
    "    NAtom = len(A)\n",
    "    cum = 0.0\n",
    "    for i in range(NAtom):\n",
    "        for j in range(Coord):\n",
    "            cum += (A[i][j] - B[i][j])**2.0\n",
    "    return np.sqrt(cum / NAtom)\n",
    "\n",
    "def centroid(A):\n",
    "    A = A.mean(axis=0)\n",
    "    return A\n",
    "\n",
    "def kabsch(coord_var, coord_ref):\n",
    "    \"\"\"\n",
    "    calculation of Rotation Matrix R\n",
    "    see SVD  http://en.wikipedia.org/wiki/Kabsch_algorithm\n",
    "    and  proper/improper rotation, JCC 2004, 25, 1894.\n",
    "    \"\"\"\n",
    "    covar = np.dot(coord_var.T, coord_ref)\n",
    "    v, s, wt = np.linalg.svd(covar)\n",
    "    d = (np.linalg.det(v) * np.linalg.det(wt)) < 0.0\n",
    "    if d: # antialigns of the last singular vector\n",
    "        s[-1] = -s[-1]\n",
    "        v[:, -1] = -v[:, -1]\n",
    "    R = np.dot(v, wt)\n",
    "    return R\n",
    "\n",
    "def adaptability(trajectory_coordinates):\n",
    "    ref = trajectory_coordinates[0]\n",
    "    NAtom = len(ref)\n",
    "    dist_to_ref_mat = np.zeros((100, NAtom))\n",
    "    for ind in range(100):\n",
    "        aligned = align_frame_to_ref(trajectory_coordinates, ind, ref)\n",
    "        squared_dist = np.sum((ref-aligned)**2, axis=1)\n",
    "        dist_to_ref_mat[ind, :] = np.sqrt(squared_dist)\n",
    "    return dist_to_ref_mat\n",
    "    # return np.mean(dist_to_ref_mat, axis=1), np.std(dist_to_ref_mat, axis=1), ref \n"
   ]
  },
  {
   "cell_type": "code",
   "execution_count": 14,
   "metadata": {},
   "outputs": [
    {
     "name": "stderr",
     "output_type": "stream",
     "text": [
      "2023-06-01 03:12:43,212\tINFO worker.py:1454 -- Calling ray.init() again after it has already been called.\n"
     ]
    },
    {
     "data": {
      "text/html": [
       "<div>\n",
       "    <div style=\"margin-left: 50px;display: flex;flex-direction: row;align-items: center\">\n",
       "        <h3 style=\"color: var(--jp-ui-font-color0)\">Ray</h3>\n",
       "        <svg version=\"1.1\" id=\"ray\" width=\"3em\" viewBox=\"0 0 144.5 144.6\" style=\"margin-left: 3em;margin-right: 3em\">\n",
       "            <g id=\"layer-1\">\n",
       "                <path fill=\"#00a2e9\" class=\"st0\" d=\"M97.3,77.2c-3.8-1.1-6.2,0.9-8.3,5.1c-3.5,6.8-9.9,9.9-17.4,9.6S58,88.1,54.8,81.2c-1.4-3-3-4-6.3-4.1\n",
       "                    c-5.6-0.1-9.9,0.1-13.1,6.4c-3.8,7.6-13.6,10.2-21.8,7.6C5.2,88.4-0.4,80.5,0,71.7c0.1-8.4,5.7-15.8,13.8-18.2\n",
       "                    c8.4-2.6,17.5,0.7,22.3,8c1.3,1.9,1.3,5.2,3.6,5.6c3.9,0.6,8,0.2,12,0.2c1.8,0,1.9-1.6,2.4-2.8c3.5-7.8,9.7-11.8,18-11.9\n",
       "                    c8.2-0.1,14.4,3.9,17.8,11.4c1.3,2.8,2.9,3.6,5.7,3.3c1-0.1,2,0.1,3,0c2.8-0.5,6.4,1.7,8.1-2.7s-2.3-5.5-4.1-7.5\n",
       "                    c-5.1-5.7-10.9-10.8-16.1-16.3C84,38,81.9,37.1,78,38.3C66.7,42,56.2,35.7,53,24.1C50.3,14,57.3,2.8,67.7,0.5\n",
       "                    C78.4-2,89,4.7,91.5,15.3c0.1,0.3,0.1,0.5,0.2,0.8c0.7,3.4,0.7,6.9-0.8,9.8c-1.7,3.2-0.8,5,1.5,7.2c6.7,6.5,13.3,13,19.8,19.7\n",
       "                    c1.8,1.8,3,2.1,5.5,1.2c9.1-3.4,17.9-0.6,23.4,7c4.8,6.9,4.6,16.1-0.4,22.9c-5.4,7.2-14.2,9.9-23.1,6.5c-2.3-0.9-3.5-0.6-5.1,1.1\n",
       "                    c-6.7,6.9-13.6,13.7-20.5,20.4c-1.8,1.8-2.5,3.2-1.4,5.9c3.5,8.7,0.3,18.6-7.7,23.6c-7.9,5-18.2,3.8-24.8-2.9\n",
       "                    c-6.4-6.4-7.4-16.2-2.5-24.3c4.9-7.8,14.5-11,23.1-7.8c3,1.1,4.7,0.5,6.9-1.7C91.7,98.4,98,92.3,104.2,86c1.6-1.6,4.1-2.7,2.6-6.2\n",
       "                    c-1.4-3.3-3.8-2.5-6.2-2.6C99.8,77.2,98.9,77.2,97.3,77.2z M72.1,29.7c5.5,0.1,9.9-4.3,10-9.8c0-0.1,0-0.2,0-0.3\n",
       "                    C81.8,14,77,9.8,71.5,10.2c-5,0.3-9,4.2-9.3,9.2c-0.2,5.5,4,10.1,9.5,10.3C71.8,29.7,72,29.7,72.1,29.7z M72.3,62.3\n",
       "                    c-5.4-0.1-9.9,4.2-10.1,9.7c0,0.2,0,0.3,0,0.5c0.2,5.4,4.5,9.7,9.9,10c5.1,0.1,9.9-4.7,10.1-9.8c0.2-5.5-4-10-9.5-10.3\n",
       "                    C72.6,62.3,72.4,62.3,72.3,62.3z M115,72.5c0.1,5.4,4.5,9.7,9.8,9.9c5.6-0.2,10-4.8,10-10.4c-0.2-5.4-4.6-9.7-10-9.7\n",
       "                    c-5.3-0.1-9.8,4.2-9.9,9.5C115,72.1,115,72.3,115,72.5z M19.5,62.3c-5.4,0.1-9.8,4.4-10,9.8c-0.1,5.1,5.2,10.4,10.2,10.3\n",
       "                    c5.6-0.2,10-4.9,9.8-10.5c-0.1-5.4-4.5-9.7-9.9-9.6C19.6,62.3,19.5,62.3,19.5,62.3z M71.8,134.6c5.9,0.2,10.3-3.9,10.4-9.6\n",
       "                    c0.5-5.5-3.6-10.4-9.1-10.8c-5.5-0.5-10.4,3.6-10.8,9.1c0,0.5,0,0.9,0,1.4c-0.2,5.3,4,9.8,9.3,10\n",
       "                    C71.6,134.6,71.7,134.6,71.8,134.6z\"/>\n",
       "            </g>\n",
       "        </svg>\n",
       "        <table>\n",
       "            <tr>\n",
       "                <td style=\"text-align: left\"><b>Python version:</b></td>\n",
       "                <td style=\"text-align: left\"><b>3.10.11</b></td>\n",
       "            </tr>\n",
       "            <tr>\n",
       "                <td style=\"text-align: left\"><b>Ray version:</b></td>\n",
       "                <td style=\"text-align: left\"><b> 2.4.0</b></td>\n",
       "            </tr>\n",
       "            \n",
       "        </table>\n",
       "    </div>\n",
       "</div>\n"
      ],
      "text/plain": [
       "RayContext(dashboard_url='', python_version='3.10.11', ray_version='2.4.0', ray_commit='4479f66d4db967d3c9dd0af2572061276ba926ba', address_info={'node_ip_address': '127.0.0.1', 'raylet_ip_address': '127.0.0.1', 'redis_address': None, 'object_store_address': '/tmp/ray/session_2023-06-01_03-09-32_197304_92683/sockets/plasma_store', 'raylet_socket_name': '/tmp/ray/session_2023-06-01_03-09-32_197304_92683/sockets/raylet', 'webui_url': '', 'session_dir': '/tmp/ray/session_2023-06-01_03-09-32_197304_92683', 'metrics_export_port': 62154, 'gcs_address': '127.0.0.1:61252', 'address': '127.0.0.1:61252', 'dashboard_agent_listen_port': 52365, 'node_id': 'f3dfde9ee303e12307f3629db33a068573b7ef45cefd1e3965a7f78a'})"
      ]
     },
     "execution_count": 14,
     "metadata": {},
     "output_type": "execute_result"
    }
   ],
   "source": [
    "import ray\n",
    "ray.init(ignore_reinit_error=True)"
   ]
  },
  {
   "cell_type": "code",
   "execution_count": 15,
   "metadata": {},
   "outputs": [],
   "source": [
    "data_directories = [\n",
    "    \"out_big\",\n",
    "    \"out_big_5000\",\n",
    "    \"out_big_10000\"\n",
    "]"
   ]
  },
  {
   "cell_type": "code",
   "execution_count": 16,
   "metadata": {},
   "outputs": [],
   "source": [
    "all_file_paths = []\n",
    "for data_dir in data_directories:\n",
    "    data_dir = Path(data_dir) / \"npz\"\n",
    "    file_paths = [x for x in data_dir.glob(\"*.npz\") if x.is_file() and len(x.stem) == 4]\n",
    "    all_file_paths.extend(file_paths)\n",
    "all_file_paths = sorted(all_file_paths, key=lambda x: x.stem)"
   ]
  },
  {
   "cell_type": "code",
   "execution_count": 17,
   "metadata": {},
   "outputs": [
    {
     "data": {
      "text/plain": [
       "14453"
      ]
     },
     "execution_count": 17,
     "metadata": {},
     "output_type": "execute_result"
    }
   ],
   "source": [
    "len(all_file_paths)"
   ]
  },
  {
   "cell_type": "code",
   "execution_count": 18,
   "metadata": {},
   "outputs": [],
   "source": [
    "path = all_file_paths[0]"
   ]
  },
  {
   "cell_type": "code",
   "execution_count": 25,
   "metadata": {},
   "outputs": [],
   "source": [
    "@ray.remote\n",
    "def get_adaptabilities(input_path, SAVEDIR):\n",
    "    path = SAVEDIR/input_path.name\n",
    "    if path.exists():\n",
    "        return True\n",
    "    data = np.load(input_path)\n",
    "    trajectory_coordinates = data['trajectory_coordinates_prepared']\n",
    "    nframes, n_residues, n_backbone_atoms, ncoords = trajectory_coordinates.shape\n",
    "    trajectory_coordinates_reshaped = trajectory_coordinates.reshape(nframes, n_residues*n_backbone_atoms, ncoords)\n",
    "    adaptability_values = adaptability(trajectory_coordinates_reshaped)\n",
    "    adaptability_values = adaptability_values.reshape(nframes, n_residues, n_backbone_atoms)\n",
    "    np.savez_compressed(path, data=adaptability_values)\n",
    "    return True"
   ]
  },
  {
   "cell_type": "code",
   "execution_count": 26,
   "metadata": {},
   "outputs": [],
   "source": [
    "SAVEDIR = Path(\"adaptabilities_npz\")\n",
    "SAVEDIR.mkdir(exist_ok=True)"
   ]
  },
  {
   "cell_type": "code",
   "execution_count": 27,
   "metadata": {},
   "outputs": [
    {
     "data": {
      "application/vnd.jupyter.widget-view+json": {
       "model_id": "83449734e3f74ac391144472c5b66edf",
       "version_major": 2,
       "version_minor": 0
      },
      "text/plain": [
       "  0%|          | 0/73 [00:00<?, ?it/s]"
      ]
     },
     "metadata": {},
     "output_type": "display_data"
    }
   ],
   "source": [
    "size=200\n",
    "for i in tqdm(range(0, len(all_file_paths), size), total=len(all_file_paths)//size+1):\n",
    "  result_ids = []\n",
    "  for file_name in all_file_paths[i:i+size]:\n",
    "      result_ids.append(get_adaptabilities.remote(file_name, SAVEDIR))\n",
    "\n",
    "  results = ray.get(result_ids)"
   ]
  },
  {
   "cell_type": "code",
   "execution_count": null,
   "metadata": {},
   "outputs": [],
   "source": [
    "# data = np.random.randint(10, size=(2,3,5, 7))"
   ]
  },
  {
   "cell_type": "code",
   "execution_count": null,
   "metadata": {},
   "outputs": [],
   "source": [
    "# (data.reshape(2, 3*5, 7).reshape(2, 3, 5, 7) == data).all()"
   ]
  },
  {
   "cell_type": "code",
   "execution_count": 28,
   "metadata": {},
   "outputs": [],
   "source": [
    "adaptability_files = list(SAVEDIR.glob(\"*.npz\"))\n",
    "adaptability_files = [x for x in adaptability_files if x.is_file() and len(x.stem) == 4]\n",
    "adaptability_files = sorted(adaptability_files, key=lambda x: x.stem)"
   ]
  },
  {
   "cell_type": "code",
   "execution_count": 29,
   "metadata": {},
   "outputs": [
    {
     "data": {
      "text/plain": [
       "14453"
      ]
     },
     "execution_count": 29,
     "metadata": {},
     "output_type": "execute_result"
    }
   ],
   "source": [
    "len(adaptability_files)"
   ]
  },
  {
   "cell_type": "code",
   "execution_count": 35,
   "metadata": {},
   "outputs": [
    {
     "data": {
      "application/vnd.jupyter.widget-view+json": {
       "model_id": "f1d60e36e89c4307a6bd9a376f234e91",
       "version_major": 2,
       "version_minor": 0
      },
      "text/plain": [
       "  0%|          | 0/14453 [00:00<?, ?it/s]"
      ]
     },
     "metadata": {},
     "output_type": "display_data"
    }
   ],
   "source": [
    "adaptability_shapes = []\n",
    "for filename in tqdm(adaptability_files):\n",
    "    pdbid = filename.stem\n",
    "    adaptabilities = np.load(filename)['data']\n",
    "    adaptability_shapes.append({\n",
    "        \"pdbid\": pdbid,\n",
    "        \"shape\": adaptabilities.shape\n",
    "    })\n",
    "    with h5py.File(\"md_adaptabilities.hdf5\", 'a') as f:\n",
    "        f.create_dataset(pdbid, data=adaptabilities, compression=\"gzip\")"
   ]
  },
  {
   "cell_type": "code",
   "execution_count": 38,
   "metadata": {},
   "outputs": [],
   "source": [
    "adaptability_shapes = pd.DataFrame(adaptability_shapes)\n",
    "adaptability_shapes.to_csv(\"adaptability_shapes.csv\", index=None)\n",
    "# to check that everything is in order and all the shapes are equal"
   ]
  },
  {
   "cell_type": "code",
   "execution_count": 39,
   "metadata": {},
   "outputs": [
    {
     "data": {
      "application/vnd.jupyter.widget-view+json": {
       "model_id": "2e76a6b7b5094c0a80bdbad9677ee5fa",
       "version_major": 2,
       "version_minor": 0
      },
      "text/plain": [
       "  0%|          | 0/14453 [00:00<?, ?it/s]"
      ]
     },
     "metadata": {},
     "output_type": "display_data"
    }
   ],
   "source": [
    "esm_if_outputs_info = []\n",
    "with h5py.File(\"npz_frame0_collected.hdf5\") as f:\n",
    "    for pdbid in tqdm(f.keys()):\n",
    "        shape = f[pdbid][()].shape\n",
    "        esm_if_outputs_info.append({\n",
    "            \"pdbid\": pdbid,\n",
    "            \"shape\": shape\n",
    "        })"
   ]
  },
  {
   "cell_type": "code",
   "execution_count": 40,
   "metadata": {},
   "outputs": [],
   "source": [
    "esm_if_outputs_info = pd.DataFrame(esm_if_outputs_info)\n",
    "esm_if_outputs_info.to_csv(\"esm_if_outputs_shapes.csv\", index=None)"
   ]
  },
  {
   "cell_type": "code",
   "execution_count": 45,
   "metadata": {},
   "outputs": [],
   "source": [
    "merged_df = esm_if_outputs_info.rename(columns={\"shape\": \"esm_out_shape\"}).merge(adaptability_shapes, on=\"pdbid\")"
   ]
  },
  {
   "cell_type": "code",
   "execution_count": 46,
   "metadata": {},
   "outputs": [],
   "source": [
    "embeddings_dir = Path(\"npz_frame0\")"
   ]
  },
  {
   "cell_type": "code",
   "execution_count": 51,
   "metadata": {},
   "outputs": [],
   "source": [
    "embedding_files = list(embeddings_dir.glob(\"*.npz\"))"
   ]
  },
  {
   "cell_type": "code",
   "execution_count": 63,
   "metadata": {},
   "outputs": [],
   "source": [
    "for filename in embedding_files:\n",
    "    pdbid = filename.stem\n",
    "    break"
   ]
  },
  {
   "cell_type": "code",
   "execution_count": 74,
   "metadata": {},
   "outputs": [],
   "source": [
    "@ray.remote\n",
    "def get_collected_embedding(filename, SAVEDIR):\n",
    "    savepath = SAVEDIR / filename.name\n",
    "    if savepath.exists():\n",
    "        return True\n",
    "    data = np.load(filename)\n",
    "    sorted_keys = sorted(data.keys(), key=int)\n",
    "    data = [data[key].squeeze(0)[1:-1] for key in sorted_keys]\n",
    "    data = np.concatenate(data)\n",
    "    np.savez_compressed(savepath, data=data)\n",
    "    return True"
   ]
  },
  {
   "cell_type": "code",
   "execution_count": 64,
   "metadata": {},
   "outputs": [
    {
     "data": {
      "text/html": [
       "<div>\n",
       "<style scoped>\n",
       "    .dataframe tbody tr th:only-of-type {\n",
       "        vertical-align: middle;\n",
       "    }\n",
       "\n",
       "    .dataframe tbody tr th {\n",
       "        vertical-align: top;\n",
       "    }\n",
       "\n",
       "    .dataframe thead th {\n",
       "        text-align: right;\n",
       "    }\n",
       "</style>\n",
       "<table border=\"1\" class=\"dataframe\">\n",
       "  <thead>\n",
       "    <tr style=\"text-align: right;\">\n",
       "      <th></th>\n",
       "      <th>pdbid</th>\n",
       "      <th>shape</th>\n",
       "    </tr>\n",
       "  </thead>\n",
       "  <tbody>\n",
       "    <tr>\n",
       "      <th>2871</th>\n",
       "      <td>2O4N</td>\n",
       "      <td>(100, 198, 3)</td>\n",
       "    </tr>\n",
       "  </tbody>\n",
       "</table>\n",
       "</div>"
      ],
      "text/plain": [
       "     pdbid          shape\n",
       "2871  2O4N  (100, 198, 3)"
      ]
     },
     "execution_count": 64,
     "metadata": {},
     "output_type": "execute_result"
    }
   ],
   "source": [
    "adaptability_shapes[adaptability_shapes.pdbid == pdbid]"
   ]
  },
  {
   "cell_type": "code",
   "execution_count": 75,
   "metadata": {},
   "outputs": [
    {
     "data": {
      "application/vnd.jupyter.widget-view+json": {
       "model_id": "e1aef720145941e7800dbc2de2811955",
       "version_major": 2,
       "version_minor": 0
      },
      "text/plain": [
       "  0%|          | 0/73 [00:00<?, ?it/s]"
      ]
     },
     "metadata": {},
     "output_type": "display_data"
    }
   ],
   "source": [
    "SAVEDIR = Path(\"npz_frame0_collected\")\n",
    "SAVEDIR.mkdir(exist_ok=True)\n",
    "size=200\n",
    "for i in tqdm(range(0, len(embedding_files), size), total=len(embedding_files)//size+1):\n",
    "  result_ids = []\n",
    "  for file_name in embedding_files[i:i+size]:\n",
    "      result_ids.append(get_collected_embedding.remote(file_name, SAVEDIR))\n",
    "\n",
    "  results = ray.get(result_ids)"
   ]
  },
  {
   "cell_type": "code",
   "execution_count": 78,
   "metadata": {},
   "outputs": [],
   "source": [
    "# !ls npz_frame0_collected | wc"
   ]
  },
  {
   "cell_type": "code",
   "execution_count": 81,
   "metadata": {},
   "outputs": [],
   "source": [
    "embedding_files = list(SAVEDIR.glob(\"*.npz\"))\n",
    "embedding_files = sorted(embedding_files, key=lambda x: x.stem)"
   ]
  },
  {
   "cell_type": "code",
   "execution_count": 87,
   "metadata": {},
   "outputs": [
    {
     "data": {
      "application/vnd.jupyter.widget-view+json": {
       "model_id": "3c9780379d7f40c5ae0aa46cf83a2170",
       "version_major": 2,
       "version_minor": 0
      },
      "text/plain": [
       "  0%|          | 0/14453 [00:00<?, ?it/s]"
      ]
     },
     "metadata": {},
     "output_type": "display_data"
    }
   ],
   "source": [
    "embedding_shapes = []\n",
    "for filename in tqdm(embedding_files):\n",
    "    pdbid = filename.stem\n",
    "    data = np.load(filename)\n",
    "    embeddings = data['data']\n",
    "    embedding_shapes.append({\n",
    "        \"pdbid\": pdbid,\n",
    "        \"shape\": embeddings.shape\n",
    "    })\n",
    "    with h5py.File(\"esm_if_out_frame0.hdf5\", 'a') as f:\n",
    "        f.create_dataset(pdbid, data=embeddings, compression=\"gzip\")\n",
    "    # break"
   ]
  },
  {
   "cell_type": "code",
   "execution_count": 88,
   "metadata": {},
   "outputs": [],
   "source": [
    "embedding_shapes = pd.DataFrame(embedding_shapes)"
   ]
  },
  {
   "cell_type": "code",
   "execution_count": 90,
   "metadata": {},
   "outputs": [],
   "source": [
    "merged_df = adaptability_shapes.merge(embedding_shapes, on=\"pdbid\")"
   ]
  },
  {
   "cell_type": "code",
   "execution_count": 94,
   "metadata": {},
   "outputs": [
    {
     "data": {
      "text/plain": [
       "True"
      ]
     },
     "execution_count": 94,
     "metadata": {},
     "output_type": "execute_result"
    }
   ],
   "source": [
    "np.all(merged_df.shape_x.apply(lambda x: x[1]).values == merged_df.shape_y.apply(lambda x: x[0]).values)\n",
    "# if this is True, the shapes are correct"
   ]
  },
  {
   "cell_type": "code",
   "execution_count": null,
   "metadata": {},
   "outputs": [],
   "source": []
  }
 ],
 "metadata": {
  "kernelspec": {
   "display_name": "encodermap_fixed",
   "language": "python",
   "name": "python3"
  },
  "language_info": {
   "codemirror_mode": {
    "name": "ipython",
    "version": 3
   },
   "file_extension": ".py",
   "mimetype": "text/x-python",
   "name": "python",
   "nbconvert_exporter": "python",
   "pygments_lexer": "ipython3",
   "version": "3.10.11"
  },
  "orig_nbformat": 4
 },
 "nbformat": 4,
 "nbformat_minor": 2
}
