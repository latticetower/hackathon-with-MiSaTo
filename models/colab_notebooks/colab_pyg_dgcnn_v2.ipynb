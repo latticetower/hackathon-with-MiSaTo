{
  "nbformat": 4,
  "nbformat_minor": 0,
  "metadata": {
    "colab": {
      "provenance": [],
      "gpuType": "T4"
    },
    "kernelspec": {
      "name": "python3",
      "display_name": "Python 3"
    },
    "language_info": {
      "name": "python"
    },
    "accelerator": "GPU",
    "widgets": {
      "application/vnd.jupyter.widget-state+json": {
        "737ab0b5cd2f4fe891ea52a7075f059b": {
          "model_module": "@jupyter-widgets/controls",
          "model_name": "HBoxModel",
          "model_module_version": "1.5.0",
          "state": {
            "_dom_classes": [],
            "_model_module": "@jupyter-widgets/controls",
            "_model_module_version": "1.5.0",
            "_model_name": "HBoxModel",
            "_view_count": null,
            "_view_module": "@jupyter-widgets/controls",
            "_view_module_version": "1.5.0",
            "_view_name": "HBoxView",
            "box_style": "",
            "children": [
              "IPY_MODEL_77b1638accdf4610a95d2a71fc4f5ccc",
              "IPY_MODEL_8c34e5b50fe945998312e863d380885b",
              "IPY_MODEL_0e330a1919d448aa946b15bb3b899e89"
            ],
            "layout": "IPY_MODEL_59e3cfc66b4f4463b11186915ae9be62"
          }
        },
        "77b1638accdf4610a95d2a71fc4f5ccc": {
          "model_module": "@jupyter-widgets/controls",
          "model_name": "HTMLModel",
          "model_module_version": "1.5.0",
          "state": {
            "_dom_classes": [],
            "_model_module": "@jupyter-widgets/controls",
            "_model_module_version": "1.5.0",
            "_model_name": "HTMLModel",
            "_view_count": null,
            "_view_module": "@jupyter-widgets/controls",
            "_view_module_version": "1.5.0",
            "_view_name": "HTMLView",
            "description": "",
            "description_tooltip": null,
            "layout": "IPY_MODEL_4c7bd596663345e4a2011b023e1b2f86",
            "placeholder": "​",
            "style": "IPY_MODEL_86276cbbb8204214b00f1fdeccd76510",
            "value": "Sanity Checking DataLoader 0: 100%"
          }
        },
        "8c34e5b50fe945998312e863d380885b": {
          "model_module": "@jupyter-widgets/controls",
          "model_name": "FloatProgressModel",
          "model_module_version": "1.5.0",
          "state": {
            "_dom_classes": [],
            "_model_module": "@jupyter-widgets/controls",
            "_model_module_version": "1.5.0",
            "_model_name": "FloatProgressModel",
            "_view_count": null,
            "_view_module": "@jupyter-widgets/controls",
            "_view_module_version": "1.5.0",
            "_view_name": "ProgressView",
            "bar_style": "",
            "description": "",
            "description_tooltip": null,
            "layout": "IPY_MODEL_cbf2d9d4f549496da68c45af7a50a5b0",
            "max": 2,
            "min": 0,
            "orientation": "horizontal",
            "style": "IPY_MODEL_1807fc00787540e69083192f094d94ba",
            "value": 2
          }
        },
        "0e330a1919d448aa946b15bb3b899e89": {
          "model_module": "@jupyter-widgets/controls",
          "model_name": "HTMLModel",
          "model_module_version": "1.5.0",
          "state": {
            "_dom_classes": [],
            "_model_module": "@jupyter-widgets/controls",
            "_model_module_version": "1.5.0",
            "_model_name": "HTMLModel",
            "_view_count": null,
            "_view_module": "@jupyter-widgets/controls",
            "_view_module_version": "1.5.0",
            "_view_name": "HTMLView",
            "description": "",
            "description_tooltip": null,
            "layout": "IPY_MODEL_f470e92c1f674e179497e6e6f44384f1",
            "placeholder": "​",
            "style": "IPY_MODEL_a8fe60ff9ac74e1b86d81366861de22c",
            "value": " 2/2 [00:01&lt;00:00,  1.66it/s]"
          }
        },
        "59e3cfc66b4f4463b11186915ae9be62": {
          "model_module": "@jupyter-widgets/base",
          "model_name": "LayoutModel",
          "model_module_version": "1.2.0",
          "state": {
            "_model_module": "@jupyter-widgets/base",
            "_model_module_version": "1.2.0",
            "_model_name": "LayoutModel",
            "_view_count": null,
            "_view_module": "@jupyter-widgets/base",
            "_view_module_version": "1.2.0",
            "_view_name": "LayoutView",
            "align_content": null,
            "align_items": null,
            "align_self": null,
            "border": null,
            "bottom": null,
            "display": "inline-flex",
            "flex": null,
            "flex_flow": "row wrap",
            "grid_area": null,
            "grid_auto_columns": null,
            "grid_auto_flow": null,
            "grid_auto_rows": null,
            "grid_column": null,
            "grid_gap": null,
            "grid_row": null,
            "grid_template_areas": null,
            "grid_template_columns": null,
            "grid_template_rows": null,
            "height": null,
            "justify_content": null,
            "justify_items": null,
            "left": null,
            "margin": null,
            "max_height": null,
            "max_width": null,
            "min_height": null,
            "min_width": null,
            "object_fit": null,
            "object_position": null,
            "order": null,
            "overflow": null,
            "overflow_x": null,
            "overflow_y": null,
            "padding": null,
            "right": null,
            "top": null,
            "visibility": "hidden",
            "width": "100%"
          }
        },
        "4c7bd596663345e4a2011b023e1b2f86": {
          "model_module": "@jupyter-widgets/base",
          "model_name": "LayoutModel",
          "model_module_version": "1.2.0",
          "state": {
            "_model_module": "@jupyter-widgets/base",
            "_model_module_version": "1.2.0",
            "_model_name": "LayoutModel",
            "_view_count": null,
            "_view_module": "@jupyter-widgets/base",
            "_view_module_version": "1.2.0",
            "_view_name": "LayoutView",
            "align_content": null,
            "align_items": null,
            "align_self": null,
            "border": null,
            "bottom": null,
            "display": null,
            "flex": null,
            "flex_flow": null,
            "grid_area": null,
            "grid_auto_columns": null,
            "grid_auto_flow": null,
            "grid_auto_rows": null,
            "grid_column": null,
            "grid_gap": null,
            "grid_row": null,
            "grid_template_areas": null,
            "grid_template_columns": null,
            "grid_template_rows": null,
            "height": null,
            "justify_content": null,
            "justify_items": null,
            "left": null,
            "margin": null,
            "max_height": null,
            "max_width": null,
            "min_height": null,
            "min_width": null,
            "object_fit": null,
            "object_position": null,
            "order": null,
            "overflow": null,
            "overflow_x": null,
            "overflow_y": null,
            "padding": null,
            "right": null,
            "top": null,
            "visibility": null,
            "width": null
          }
        },
        "86276cbbb8204214b00f1fdeccd76510": {
          "model_module": "@jupyter-widgets/controls",
          "model_name": "DescriptionStyleModel",
          "model_module_version": "1.5.0",
          "state": {
            "_model_module": "@jupyter-widgets/controls",
            "_model_module_version": "1.5.0",
            "_model_name": "DescriptionStyleModel",
            "_view_count": null,
            "_view_module": "@jupyter-widgets/base",
            "_view_module_version": "1.2.0",
            "_view_name": "StyleView",
            "description_width": ""
          }
        },
        "cbf2d9d4f549496da68c45af7a50a5b0": {
          "model_module": "@jupyter-widgets/base",
          "model_name": "LayoutModel",
          "model_module_version": "1.2.0",
          "state": {
            "_model_module": "@jupyter-widgets/base",
            "_model_module_version": "1.2.0",
            "_model_name": "LayoutModel",
            "_view_count": null,
            "_view_module": "@jupyter-widgets/base",
            "_view_module_version": "1.2.0",
            "_view_name": "LayoutView",
            "align_content": null,
            "align_items": null,
            "align_self": null,
            "border": null,
            "bottom": null,
            "display": null,
            "flex": "2",
            "flex_flow": null,
            "grid_area": null,
            "grid_auto_columns": null,
            "grid_auto_flow": null,
            "grid_auto_rows": null,
            "grid_column": null,
            "grid_gap": null,
            "grid_row": null,
            "grid_template_areas": null,
            "grid_template_columns": null,
            "grid_template_rows": null,
            "height": null,
            "justify_content": null,
            "justify_items": null,
            "left": null,
            "margin": null,
            "max_height": null,
            "max_width": null,
            "min_height": null,
            "min_width": null,
            "object_fit": null,
            "object_position": null,
            "order": null,
            "overflow": null,
            "overflow_x": null,
            "overflow_y": null,
            "padding": null,
            "right": null,
            "top": null,
            "visibility": null,
            "width": null
          }
        },
        "1807fc00787540e69083192f094d94ba": {
          "model_module": "@jupyter-widgets/controls",
          "model_name": "ProgressStyleModel",
          "model_module_version": "1.5.0",
          "state": {
            "_model_module": "@jupyter-widgets/controls",
            "_model_module_version": "1.5.0",
            "_model_name": "ProgressStyleModel",
            "_view_count": null,
            "_view_module": "@jupyter-widgets/base",
            "_view_module_version": "1.2.0",
            "_view_name": "StyleView",
            "bar_color": null,
            "description_width": ""
          }
        },
        "f470e92c1f674e179497e6e6f44384f1": {
          "model_module": "@jupyter-widgets/base",
          "model_name": "LayoutModel",
          "model_module_version": "1.2.0",
          "state": {
            "_model_module": "@jupyter-widgets/base",
            "_model_module_version": "1.2.0",
            "_model_name": "LayoutModel",
            "_view_count": null,
            "_view_module": "@jupyter-widgets/base",
            "_view_module_version": "1.2.0",
            "_view_name": "LayoutView",
            "align_content": null,
            "align_items": null,
            "align_self": null,
            "border": null,
            "bottom": null,
            "display": null,
            "flex": null,
            "flex_flow": null,
            "grid_area": null,
            "grid_auto_columns": null,
            "grid_auto_flow": null,
            "grid_auto_rows": null,
            "grid_column": null,
            "grid_gap": null,
            "grid_row": null,
            "grid_template_areas": null,
            "grid_template_columns": null,
            "grid_template_rows": null,
            "height": null,
            "justify_content": null,
            "justify_items": null,
            "left": null,
            "margin": null,
            "max_height": null,
            "max_width": null,
            "min_height": null,
            "min_width": null,
            "object_fit": null,
            "object_position": null,
            "order": null,
            "overflow": null,
            "overflow_x": null,
            "overflow_y": null,
            "padding": null,
            "right": null,
            "top": null,
            "visibility": null,
            "width": null
          }
        },
        "a8fe60ff9ac74e1b86d81366861de22c": {
          "model_module": "@jupyter-widgets/controls",
          "model_name": "DescriptionStyleModel",
          "model_module_version": "1.5.0",
          "state": {
            "_model_module": "@jupyter-widgets/controls",
            "_model_module_version": "1.5.0",
            "_model_name": "DescriptionStyleModel",
            "_view_count": null,
            "_view_module": "@jupyter-widgets/base",
            "_view_module_version": "1.2.0",
            "_view_name": "StyleView",
            "description_width": ""
          }
        },
        "4e3115294cae4141a3bb9fa258b854a7": {
          "model_module": "@jupyter-widgets/controls",
          "model_name": "HBoxModel",
          "model_module_version": "1.5.0",
          "state": {
            "_dom_classes": [],
            "_model_module": "@jupyter-widgets/controls",
            "_model_module_version": "1.5.0",
            "_model_name": "HBoxModel",
            "_view_count": null,
            "_view_module": "@jupyter-widgets/controls",
            "_view_module_version": "1.5.0",
            "_view_name": "HBoxView",
            "box_style": "",
            "children": [
              "IPY_MODEL_c4be542bee994dea8c836919fa67b40a",
              "IPY_MODEL_2fef80ecd1ac41c7ab058414617f7e5b",
              "IPY_MODEL_37a27aa662c94eab89f0bab7acc3605a"
            ],
            "layout": "IPY_MODEL_9bfc3f6fe8d14558a86aefedb28fe807"
          }
        },
        "c4be542bee994dea8c836919fa67b40a": {
          "model_module": "@jupyter-widgets/controls",
          "model_name": "HTMLModel",
          "model_module_version": "1.5.0",
          "state": {
            "_dom_classes": [],
            "_model_module": "@jupyter-widgets/controls",
            "_model_module_version": "1.5.0",
            "_model_name": "HTMLModel",
            "_view_count": null,
            "_view_module": "@jupyter-widgets/controls",
            "_view_module_version": "1.5.0",
            "_view_name": "HTMLView",
            "description": "",
            "description_tooltip": null,
            "layout": "IPY_MODEL_e43d9e08cce0460592d058bb22f06a5b",
            "placeholder": "​",
            "style": "IPY_MODEL_459f04854e5e4faf909fda165e40e5ba",
            "value": "Epoch 0:   5%"
          }
        },
        "2fef80ecd1ac41c7ab058414617f7e5b": {
          "model_module": "@jupyter-widgets/controls",
          "model_name": "FloatProgressModel",
          "model_module_version": "1.5.0",
          "state": {
            "_dom_classes": [],
            "_model_module": "@jupyter-widgets/controls",
            "_model_module_version": "1.5.0",
            "_model_name": "FloatProgressModel",
            "_view_count": null,
            "_view_module": "@jupyter-widgets/controls",
            "_view_module_version": "1.5.0",
            "_view_name": "ProgressView",
            "bar_style": "",
            "description": "",
            "description_tooltip": null,
            "layout": "IPY_MODEL_43e0e0be650943ae9ff4fdfb96a626c0",
            "max": 735,
            "min": 0,
            "orientation": "horizontal",
            "style": "IPY_MODEL_747dab8f812b4885b50dd7699ac65a42",
            "value": 40
          }
        },
        "37a27aa662c94eab89f0bab7acc3605a": {
          "model_module": "@jupyter-widgets/controls",
          "model_name": "HTMLModel",
          "model_module_version": "1.5.0",
          "state": {
            "_dom_classes": [],
            "_model_module": "@jupyter-widgets/controls",
            "_model_module_version": "1.5.0",
            "_model_name": "HTMLModel",
            "_view_count": null,
            "_view_module": "@jupyter-widgets/controls",
            "_view_module_version": "1.5.0",
            "_view_name": "HTMLView",
            "description": "",
            "description_tooltip": null,
            "layout": "IPY_MODEL_b020e5956d514850ba53b6af73b31aa7",
            "placeholder": "​",
            "style": "IPY_MODEL_2c2ea337fbf449e2a103bb602c2d7251",
            "value": " 40/735 [00:17&lt;05:00,  2.31it/s, v_num=0]"
          }
        },
        "9bfc3f6fe8d14558a86aefedb28fe807": {
          "model_module": "@jupyter-widgets/base",
          "model_name": "LayoutModel",
          "model_module_version": "1.2.0",
          "state": {
            "_model_module": "@jupyter-widgets/base",
            "_model_module_version": "1.2.0",
            "_model_name": "LayoutModel",
            "_view_count": null,
            "_view_module": "@jupyter-widgets/base",
            "_view_module_version": "1.2.0",
            "_view_name": "LayoutView",
            "align_content": null,
            "align_items": null,
            "align_self": null,
            "border": null,
            "bottom": null,
            "display": "inline-flex",
            "flex": null,
            "flex_flow": "row wrap",
            "grid_area": null,
            "grid_auto_columns": null,
            "grid_auto_flow": null,
            "grid_auto_rows": null,
            "grid_column": null,
            "grid_gap": null,
            "grid_row": null,
            "grid_template_areas": null,
            "grid_template_columns": null,
            "grid_template_rows": null,
            "height": null,
            "justify_content": null,
            "justify_items": null,
            "left": null,
            "margin": null,
            "max_height": null,
            "max_width": null,
            "min_height": null,
            "min_width": null,
            "object_fit": null,
            "object_position": null,
            "order": null,
            "overflow": null,
            "overflow_x": null,
            "overflow_y": null,
            "padding": null,
            "right": null,
            "top": null,
            "visibility": null,
            "width": "100%"
          }
        },
        "e43d9e08cce0460592d058bb22f06a5b": {
          "model_module": "@jupyter-widgets/base",
          "model_name": "LayoutModel",
          "model_module_version": "1.2.0",
          "state": {
            "_model_module": "@jupyter-widgets/base",
            "_model_module_version": "1.2.0",
            "_model_name": "LayoutModel",
            "_view_count": null,
            "_view_module": "@jupyter-widgets/base",
            "_view_module_version": "1.2.0",
            "_view_name": "LayoutView",
            "align_content": null,
            "align_items": null,
            "align_self": null,
            "border": null,
            "bottom": null,
            "display": null,
            "flex": null,
            "flex_flow": null,
            "grid_area": null,
            "grid_auto_columns": null,
            "grid_auto_flow": null,
            "grid_auto_rows": null,
            "grid_column": null,
            "grid_gap": null,
            "grid_row": null,
            "grid_template_areas": null,
            "grid_template_columns": null,
            "grid_template_rows": null,
            "height": null,
            "justify_content": null,
            "justify_items": null,
            "left": null,
            "margin": null,
            "max_height": null,
            "max_width": null,
            "min_height": null,
            "min_width": null,
            "object_fit": null,
            "object_position": null,
            "order": null,
            "overflow": null,
            "overflow_x": null,
            "overflow_y": null,
            "padding": null,
            "right": null,
            "top": null,
            "visibility": null,
            "width": null
          }
        },
        "459f04854e5e4faf909fda165e40e5ba": {
          "model_module": "@jupyter-widgets/controls",
          "model_name": "DescriptionStyleModel",
          "model_module_version": "1.5.0",
          "state": {
            "_model_module": "@jupyter-widgets/controls",
            "_model_module_version": "1.5.0",
            "_model_name": "DescriptionStyleModel",
            "_view_count": null,
            "_view_module": "@jupyter-widgets/base",
            "_view_module_version": "1.2.0",
            "_view_name": "StyleView",
            "description_width": ""
          }
        },
        "43e0e0be650943ae9ff4fdfb96a626c0": {
          "model_module": "@jupyter-widgets/base",
          "model_name": "LayoutModel",
          "model_module_version": "1.2.0",
          "state": {
            "_model_module": "@jupyter-widgets/base",
            "_model_module_version": "1.2.0",
            "_model_name": "LayoutModel",
            "_view_count": null,
            "_view_module": "@jupyter-widgets/base",
            "_view_module_version": "1.2.0",
            "_view_name": "LayoutView",
            "align_content": null,
            "align_items": null,
            "align_self": null,
            "border": null,
            "bottom": null,
            "display": null,
            "flex": "2",
            "flex_flow": null,
            "grid_area": null,
            "grid_auto_columns": null,
            "grid_auto_flow": null,
            "grid_auto_rows": null,
            "grid_column": null,
            "grid_gap": null,
            "grid_row": null,
            "grid_template_areas": null,
            "grid_template_columns": null,
            "grid_template_rows": null,
            "height": null,
            "justify_content": null,
            "justify_items": null,
            "left": null,
            "margin": null,
            "max_height": null,
            "max_width": null,
            "min_height": null,
            "min_width": null,
            "object_fit": null,
            "object_position": null,
            "order": null,
            "overflow": null,
            "overflow_x": null,
            "overflow_y": null,
            "padding": null,
            "right": null,
            "top": null,
            "visibility": null,
            "width": null
          }
        },
        "747dab8f812b4885b50dd7699ac65a42": {
          "model_module": "@jupyter-widgets/controls",
          "model_name": "ProgressStyleModel",
          "model_module_version": "1.5.0",
          "state": {
            "_model_module": "@jupyter-widgets/controls",
            "_model_module_version": "1.5.0",
            "_model_name": "ProgressStyleModel",
            "_view_count": null,
            "_view_module": "@jupyter-widgets/base",
            "_view_module_version": "1.2.0",
            "_view_name": "StyleView",
            "bar_color": null,
            "description_width": ""
          }
        },
        "b020e5956d514850ba53b6af73b31aa7": {
          "model_module": "@jupyter-widgets/base",
          "model_name": "LayoutModel",
          "model_module_version": "1.2.0",
          "state": {
            "_model_module": "@jupyter-widgets/base",
            "_model_module_version": "1.2.0",
            "_model_name": "LayoutModel",
            "_view_count": null,
            "_view_module": "@jupyter-widgets/base",
            "_view_module_version": "1.2.0",
            "_view_name": "LayoutView",
            "align_content": null,
            "align_items": null,
            "align_self": null,
            "border": null,
            "bottom": null,
            "display": null,
            "flex": null,
            "flex_flow": null,
            "grid_area": null,
            "grid_auto_columns": null,
            "grid_auto_flow": null,
            "grid_auto_rows": null,
            "grid_column": null,
            "grid_gap": null,
            "grid_row": null,
            "grid_template_areas": null,
            "grid_template_columns": null,
            "grid_template_rows": null,
            "height": null,
            "justify_content": null,
            "justify_items": null,
            "left": null,
            "margin": null,
            "max_height": null,
            "max_width": null,
            "min_height": null,
            "min_width": null,
            "object_fit": null,
            "object_position": null,
            "order": null,
            "overflow": null,
            "overflow_x": null,
            "overflow_y": null,
            "padding": null,
            "right": null,
            "top": null,
            "visibility": null,
            "width": null
          }
        },
        "2c2ea337fbf449e2a103bb602c2d7251": {
          "model_module": "@jupyter-widgets/controls",
          "model_name": "DescriptionStyleModel",
          "model_module_version": "1.5.0",
          "state": {
            "_model_module": "@jupyter-widgets/controls",
            "_model_module_version": "1.5.0",
            "_model_name": "DescriptionStyleModel",
            "_view_count": null,
            "_view_module": "@jupyter-widgets/base",
            "_view_module_version": "1.2.0",
            "_view_name": "StyleView",
            "description_width": ""
          }
        }
      }
    }
  },
  "cells": [
    {
      "cell_type": "code",
      "source": [
        "# Colab environment setup\n",
        "import numpy as np\n",
        "# Install the correct version of Pytorch Geometric.\n",
        "import torch\n",
        "\n",
        "def format_pytorch_version(version):\n",
        "  return version.split('+')[0]\n",
        "\n",
        "TORCH_version = torch.__version__\n",
        "TORCH = format_pytorch_version(TORCH_version)\n",
        "\n",
        "def format_cuda_version(version):\n",
        "  return 'cu' + version.replace('.', '')\n",
        "\n",
        "CUDA_version = torch.version.cuda\n",
        "CUDA = format_cuda_version(CUDA_version)\n",
        "\n",
        "!pip install -q torch-scatter -f https://data.pyg.org/whl/torch-{TORCH}+{CUDA}.html\n",
        "!pip install -q torch-sparse -f https://data.pyg.org/whl/torch-{TORCH}+{CUDA}.html\n",
        "!pip install -q torch-cluster -f https://data.pyg.org/whl/torch-{TORCH}+{CUDA}.html\n",
        "!pip install -q torch-spline-conv -f https://data.pyg.org/whl/torch-{TORCH}+{CUDA}.html\n",
        "!pip install -q torch-geometric\n",
        "\n",
        "!pip install pytorch-lightning"
      ],
      "metadata": {
        "colab": {
          "base_uri": "https://localhost:8080/"
        },
        "id": "vNAWCJTMgASl",
        "outputId": "16349845-7598-4a4d-f8aa-dcb0a404890e"
      },
      "execution_count": 4,
      "outputs": [
        {
          "output_type": "stream",
          "name": "stdout",
          "text": [
            "Looking in indexes: https://pypi.org/simple, https://us-python.pkg.dev/colab-wheels/public/simple/\n",
            "Requirement already satisfied: pytorch-lightning in /usr/local/lib/python3.10/dist-packages (2.0.2)\n",
            "Requirement already satisfied: numpy>=1.17.2 in /usr/local/lib/python3.10/dist-packages (from pytorch-lightning) (1.22.4)\n",
            "Requirement already satisfied: torch>=1.11.0 in /usr/local/lib/python3.10/dist-packages (from pytorch-lightning) (2.0.1+cu118)\n",
            "Requirement already satisfied: tqdm>=4.57.0 in /usr/local/lib/python3.10/dist-packages (from pytorch-lightning) (4.65.0)\n",
            "Requirement already satisfied: PyYAML>=5.4 in /usr/local/lib/python3.10/dist-packages (from pytorch-lightning) (6.0)\n",
            "Requirement already satisfied: fsspec[http]>2021.06.0 in /usr/local/lib/python3.10/dist-packages (from pytorch-lightning) (2023.4.0)\n",
            "Requirement already satisfied: torchmetrics>=0.7.0 in /usr/local/lib/python3.10/dist-packages (from pytorch-lightning) (0.11.4)\n",
            "Requirement already satisfied: packaging>=17.1 in /usr/local/lib/python3.10/dist-packages (from pytorch-lightning) (23.1)\n",
            "Requirement already satisfied: typing-extensions>=4.0.0 in /usr/local/lib/python3.10/dist-packages (from pytorch-lightning) (4.5.0)\n",
            "Requirement already satisfied: lightning-utilities>=0.7.0 in /usr/local/lib/python3.10/dist-packages (from pytorch-lightning) (0.8.0)\n",
            "Requirement already satisfied: requests in /usr/local/lib/python3.10/dist-packages (from fsspec[http]>2021.06.0->pytorch-lightning) (2.27.1)\n",
            "Requirement already satisfied: aiohttp!=4.0.0a0,!=4.0.0a1 in /usr/local/lib/python3.10/dist-packages (from fsspec[http]>2021.06.0->pytorch-lightning) (3.8.4)\n",
            "Requirement already satisfied: filelock in /usr/local/lib/python3.10/dist-packages (from torch>=1.11.0->pytorch-lightning) (3.12.0)\n",
            "Requirement already satisfied: sympy in /usr/local/lib/python3.10/dist-packages (from torch>=1.11.0->pytorch-lightning) (1.11.1)\n",
            "Requirement already satisfied: networkx in /usr/local/lib/python3.10/dist-packages (from torch>=1.11.0->pytorch-lightning) (3.1)\n",
            "Requirement already satisfied: jinja2 in /usr/local/lib/python3.10/dist-packages (from torch>=1.11.0->pytorch-lightning) (3.1.2)\n",
            "Requirement already satisfied: triton==2.0.0 in /usr/local/lib/python3.10/dist-packages (from torch>=1.11.0->pytorch-lightning) (2.0.0)\n",
            "Requirement already satisfied: cmake in /usr/local/lib/python3.10/dist-packages (from triton==2.0.0->torch>=1.11.0->pytorch-lightning) (3.25.2)\n",
            "Requirement already satisfied: lit in /usr/local/lib/python3.10/dist-packages (from triton==2.0.0->torch>=1.11.0->pytorch-lightning) (16.0.5)\n",
            "Requirement already satisfied: attrs>=17.3.0 in /usr/local/lib/python3.10/dist-packages (from aiohttp!=4.0.0a0,!=4.0.0a1->fsspec[http]>2021.06.0->pytorch-lightning) (23.1.0)\n",
            "Requirement already satisfied: charset-normalizer<4.0,>=2.0 in /usr/local/lib/python3.10/dist-packages (from aiohttp!=4.0.0a0,!=4.0.0a1->fsspec[http]>2021.06.0->pytorch-lightning) (2.0.12)\n",
            "Requirement already satisfied: multidict<7.0,>=4.5 in /usr/local/lib/python3.10/dist-packages (from aiohttp!=4.0.0a0,!=4.0.0a1->fsspec[http]>2021.06.0->pytorch-lightning) (6.0.4)\n",
            "Requirement already satisfied: async-timeout<5.0,>=4.0.0a3 in /usr/local/lib/python3.10/dist-packages (from aiohttp!=4.0.0a0,!=4.0.0a1->fsspec[http]>2021.06.0->pytorch-lightning) (4.0.2)\n",
            "Requirement already satisfied: yarl<2.0,>=1.0 in /usr/local/lib/python3.10/dist-packages (from aiohttp!=4.0.0a0,!=4.0.0a1->fsspec[http]>2021.06.0->pytorch-lightning) (1.9.2)\n",
            "Requirement already satisfied: frozenlist>=1.1.1 in /usr/local/lib/python3.10/dist-packages (from aiohttp!=4.0.0a0,!=4.0.0a1->fsspec[http]>2021.06.0->pytorch-lightning) (1.3.3)\n",
            "Requirement already satisfied: aiosignal>=1.1.2 in /usr/local/lib/python3.10/dist-packages (from aiohttp!=4.0.0a0,!=4.0.0a1->fsspec[http]>2021.06.0->pytorch-lightning) (1.3.1)\n",
            "Requirement already satisfied: MarkupSafe>=2.0 in /usr/local/lib/python3.10/dist-packages (from jinja2->torch>=1.11.0->pytorch-lightning) (2.1.2)\n",
            "Requirement already satisfied: urllib3<1.27,>=1.21.1 in /usr/local/lib/python3.10/dist-packages (from requests->fsspec[http]>2021.06.0->pytorch-lightning) (1.26.15)\n",
            "Requirement already satisfied: certifi>=2017.4.17 in /usr/local/lib/python3.10/dist-packages (from requests->fsspec[http]>2021.06.0->pytorch-lightning) (2022.12.7)\n",
            "Requirement already satisfied: idna<4,>=2.5 in /usr/local/lib/python3.10/dist-packages (from requests->fsspec[http]>2021.06.0->pytorch-lightning) (3.4)\n",
            "Requirement already satisfied: mpmath>=0.19 in /usr/local/lib/python3.10/dist-packages (from sympy->torch>=1.11.0->pytorch-lightning) (1.3.0)\n"
          ]
        }
      ]
    },
    {
      "cell_type": "code",
      "source": [
        "import os\n",
        "import random\n",
        "import numpy as np\n",
        "import torch\n",
        "\n",
        "\n",
        "def set_seed(seed: int = 42) -> None:\n",
        "    np.random.seed(seed)\n",
        "    random.seed(seed)\n",
        "    torch.manual_seed(seed)\n",
        "    torch.cuda.manual_seed(seed)\n",
        "    # When running on the CuDNN backend, two further options must be set\n",
        "    torch.backends.cudnn.deterministic = True\n",
        "    torch.backends.cudnn.benchmark = False\n",
        "    # Set a fixed value for the hash seed\n",
        "    os.environ[\"PYTHONHASHSEED\"] = str(seed)\n",
        "    print(f\"Random seed set as {seed}\")\n",
        "\n",
        "RANDOM_SEED = 3407\n",
        "set_seed(RANDOM_SEED)"
      ],
      "metadata": {
        "colab": {
          "base_uri": "https://localhost:8080/"
        },
        "id": "OLVITx4sGhcw",
        "outputId": "f63f4889-3e15-415f-dade-ec92c81c430c"
      },
      "execution_count": 5,
      "outputs": [
        {
          "output_type": "stream",
          "name": "stdout",
          "text": [
            "Random seed set as 3407\n"
          ]
        }
      ]
    },
    {
      "cell_type": "code",
      "source": [],
      "metadata": {
        "id": "eXrNdOlfhOsC"
      },
      "execution_count": 5,
      "outputs": []
    },
    {
      "cell_type": "code",
      "source": [
        "from google.colab import drive\n",
        "drive.mount('/content/gdrive')"
      ],
      "metadata": {
        "colab": {
          "base_uri": "https://localhost:8080/"
        },
        "id": "yAywNC5p0_X5",
        "outputId": "fb8750ab-23ab-451b-ad7f-d9a9e9160cce"
      },
      "execution_count": 6,
      "outputs": [
        {
          "output_type": "stream",
          "name": "stdout",
          "text": [
            "Mounted at /content/gdrive\n"
          ]
        }
      ]
    },
    {
      "cell_type": "code",
      "source": [
        "from pathlib import Path\n",
        "DATADIR = Path(\"/content/gdrive/MyDrive/MISATO-experiments/prepared_data\")\n",
        "list(DATADIR.iterdir())"
      ],
      "metadata": {
        "colab": {
          "base_uri": "https://localhost:8080/"
        },
        "id": "cczypkZn1Qya",
        "outputId": "6805cc32-84a8-4fc6-a1b0-b0e6d93fadd4"
      },
      "execution_count": 7,
      "outputs": [
        {
          "output_type": "execute_result",
          "data": {
            "text/plain": [
              "[PosixPath('/content/gdrive/MyDrive/MISATO-experiments/prepared_data/esm2-embeddings'),\n",
              " PosixPath('/content/gdrive/MyDrive/MISATO-experiments/prepared_data/md_esm_if_input.hdf5'),\n",
              " PosixPath('/content/gdrive/MyDrive/MISATO-experiments/prepared_data/skipped_pdbids.csv'),\n",
              " PosixPath('/content/gdrive/MyDrive/MISATO-experiments/prepared_data/md_adaptabilities.hdf5'),\n",
              " PosixPath('/content/gdrive/MyDrive/MISATO-experiments/prepared_data/esm_if_out_frame0.hdf5'),\n",
              " PosixPath('/content/gdrive/MyDrive/MISATO-experiments/prepared_data/skipped_pdb'),\n",
              " PosixPath('/content/gdrive/MyDrive/MISATO-experiments/prepared_data/data description.gslides')]"
            ]
          },
          "metadata": {},
          "execution_count": 7
        }
      ]
    },
    {
      "cell_type": "code",
      "source": [
        "!mkdir data\n",
        "!mkdir data/raw\n",
        "if not os.path.exists(\"/content/data/raw/md_adaptabilities.hdf5\"):\n",
        "  !cp /content/gdrive/MyDrive/MISATO-experiments/prepared_data/esm_if_out_frame0.hdf5 /content/data/raw\n",
        "  !cp /content/gdrive/MyDrive/MISATO-experiments/prepared_data/md_adaptabilities.hdf5 /content/data/raw"
      ],
      "metadata": {
        "id": "eFh_y2Ld1xBr"
      },
      "execution_count": 8,
      "outputs": []
    },
    {
      "cell_type": "code",
      "source": [
        "import h5py\n",
        "# DATADIR = Path(\"prepared_data\")\n",
        "# h5py.File(\"md\")\n",
        "# embeddings_collection = h5py.File(\"data/esm_if_out_frame0.hdf5\")\n",
        "# adaptabilities_collection = h5py.File(\"data/md_adaptabilities.hdf5\")"
      ],
      "metadata": {
        "id": "IOkz3sva2AEZ"
      },
      "execution_count": 9,
      "outputs": []
    },
    {
      "cell_type": "code",
      "source": [],
      "metadata": {
        "id": "9wj3Pcvb704e"
      },
      "execution_count": 9,
      "outputs": []
    },
    {
      "cell_type": "code",
      "source": [
        "if not os.path.exists(\"MiSaTo-dataset\"):\n",
        "  !git clone https://github.com/sab148/MiSaTo-dataset.git"
      ],
      "metadata": {
        "id": "18NIPLA-5MAP",
        "colab": {
          "base_uri": "https://localhost:8080/"
        },
        "outputId": "423f1094-e384-4183-ee8b-b6de8af6dabd"
      },
      "execution_count": 10,
      "outputs": [
        {
          "output_type": "stream",
          "name": "stdout",
          "text": [
            "Cloning into 'MiSaTo-dataset'...\n",
            "remote: Enumerating objects: 784, done.\u001b[K\n",
            "remote: Counting objects: 100% (728/728), done.\u001b[K\n",
            "remote: Compressing objects: 100% (361/361), done.\u001b[K\n",
            "remote: Total 784 (delta 367), reused 665 (delta 345), pack-reused 56\u001b[K\n",
            "Receiving objects: 100% (784/784), 173.98 MiB | 16.64 MiB/s, done.\n",
            "Resolving deltas: 100% (367/367), done.\n",
            "Updating files: 100% (90/90), done.\n"
          ]
        }
      ]
    },
    {
      "cell_type": "code",
      "source": [
        "SPLITS_DIR = Path(\"MiSaTo-dataset/data/MD/splits\")\n",
        "\n",
        "def read_split(filename):\n",
        "  with open(filename) as f:\n",
        "    for line in f:\n",
        "      line = line.strip()\n",
        "      yield line\n",
        "\n",
        "\n",
        "train_pdbids = list(read_split(SPLITS_DIR / \"train_MD.txt\")) # train_tinyMD\n",
        "test_pdbids = list(read_split(SPLITS_DIR / \"test_MD.txt\"))\n",
        "val_pdbids = list(read_split(SPLITS_DIR / \"val_MD.txt\"))\n"
      ],
      "metadata": {
        "id": "mnr0Q3WG8PGL"
      },
      "execution_count": 11,
      "outputs": []
    },
    {
      "cell_type": "code",
      "source": [
        "SAVEDIR = Path(\"/content/gdrive/MyDrive/MISATO-experiments/dgcnn_v2_saves\")\n",
        "SAVEDIR.mkdir(exist_ok=True)"
      ],
      "metadata": {
        "id": "xPSoqVxm_nev"
      },
      "execution_count": 12,
      "outputs": []
    },
    {
      "cell_type": "code",
      "source": [
        "# pdbid = train_idx[0]\n",
        "# print(pdbid)\n",
        "# embeddings = embeddings_collection[pdbid][()]\n",
        "# adaptabilities = adaptabilities_collection[pdbid][()]"
      ],
      "metadata": {
        "id": "AmYEuSYQ_AYN"
      },
      "execution_count": 13,
      "outputs": []
    },
    {
      "cell_type": "code",
      "source": [
        "# embeddings.shape, adaptabilities[1]  # .shape\n",
        "# # baseline: use "
      ],
      "metadata": {
        "id": "1kaUjoCh_K_v"
      },
      "execution_count": 14,
      "outputs": []
    },
    {
      "cell_type": "code",
      "source": [
        "from torch_geometric.data import Dataset\n",
        "from torch_geometric.data import Data\n",
        "import os\n",
        "\n",
        "class AdaptabilityDataset(Dataset):\n",
        "    def __init__(self, raw_dir, pdbid_list=None, target_pretransform=None, \n",
        "                 transform=None, pre_transform=None, pre_filter=None, recompute=True):\n",
        "        self.pdbid_list = pdbid_list\n",
        "        self.processed_pdbids = []\n",
        "        self.pdbid2idx = dict()\n",
        "        self.file_names = []\n",
        "        self.recompute = recompute\n",
        "        self.target_pretransform = target_pretransform\n",
        "        super().__init__(raw_dir, transform, pre_transform, pre_filter)\n",
        "\n",
        "    @property\n",
        "    def raw_file_names(self):\n",
        "        return [\n",
        "            os.path.join(self.raw_dir, 'esm_if_out_frame0.hdf5'), \n",
        "            os.path.join(self.raw_dir, 'md_adaptabilities.hdf5')\n",
        "        ]\n",
        "\n",
        "    @property\n",
        "    def processed_file_names(self):\n",
        "        return self.file_names\n",
        "\n",
        "    def process(self):\n",
        "        idx = 0\n",
        "        embedding_file_name, adaptabilities_file_name = self.raw_file_names\n",
        "        with h5py.File(embedding_file_name) as embeddings_collection, \\\n",
        "             h5py.File(adaptabilities_file_name) as adaptabilities_collection:\n",
        "            if self.pdbid_list is not None:\n",
        "                pdbid_list = self.pdbid_list\n",
        "            else:\n",
        "                pdbid_list = list(sorted(self.embeddings_collection.keys()))\n",
        "\n",
        "            for pdbid in pdbid_list:\n",
        "                if not pdbid in adaptabilities_collection:\n",
        "                    continue\n",
        "                \n",
        "                if not pdbid in embeddings_collection:\n",
        "                    continue\n",
        "                savepath = os.path.join(self.processed_dir, f'{pdbid}.pt')\n",
        "                if os.path.exists(savepath) and not self.recompute:\n",
        "                    # print(pdbid)\n",
        "                    self.pdbid2idx[pdbid] = idx\n",
        "                    self.processed_pdbids.append(pdbid)\n",
        "                    idx += 1\n",
        "                    self.file_names.append(pdbid)\n",
        "                    continue\n",
        "                embedding = embeddings_collection[pdbid][()]\n",
        "                adaptabilities = adaptabilities_collection[pdbid][()]\n",
        "                \n",
        "                \n",
        "                if self.target_pretransform is not None:\n",
        "                    adaptabilities = self.target_pretransform(adaptabilities)\n",
        "                embedding = torch.from_numpy(embedding).to(torch.float)\n",
        "                adaptabilities = torch.from_numpy(adaptabilities).to(torch.float)\n",
        "                data = Data(x=embedding, y=adaptabilities)\n",
        "\n",
        "                if self.pre_filter is not None and not self.pre_filter(data):\n",
        "                    continue\n",
        "                if self.pre_transform is not None:\n",
        "                    data = self.pre_transform(data)\n",
        "                torch.save(data, savepath)\n",
        "\n",
        "                self.pdbid2idx[pdbid] = idx\n",
        "                # if not pdbid in self.pdbid2idx:\n",
        "                self.processed_pdbids.append(pdbid)\n",
        "                idx += 1\n",
        "                self.file_names.append(pdbid)\n",
        "\n",
        "    def len(self):\n",
        "        return len(self.file_names)\n",
        "\n",
        "    def get_indices(self, pdbid_list):\n",
        "        return np.asarray([self.pdbid2idx[pdbid] for pdbid in pdbid_list if pdbid in self.pdbid2idx])\n",
        "\n",
        "    def get(self, idx):\n",
        "        pdbid = self.processed_pdbids[idx]\n",
        "        data = torch.load(os.path.join(self.processed_dir, f'{pdbid}.pt'))\n",
        "        return data"
      ],
      "metadata": {
        "id": "tGAZ8N1S59BY"
      },
      "execution_count": 25,
      "outputs": []
    },
    {
      "cell_type": "code",
      "source": [],
      "metadata": {
        "id": "W3YKBrJjDVPG"
      },
      "execution_count": 25,
      "outputs": []
    },
    {
      "cell_type": "code",
      "source": [
        "# here are imports\n",
        "# import os.path as osp\n",
        "\n",
        "import pytorch_lightning as pl\n",
        "# import torch\n",
        "import torch.nn.functional as F\n",
        "from torchmetrics import PearsonCorrCoef\n",
        "from torchmetrics import MeanSquaredError\n",
        "\n",
        "import torch_geometric.transforms as T\n",
        "from torch_geometric.data.lightning import LightningDataset\n",
        "# from torch_geometric.datasets import TUDataset\n",
        "from torch_geometric.nn import GIN, MLP, global_add_pool\n",
        "from torch_geometric.nn import MLP, DynamicEdgeConv\n",
        "\n",
        "class DGCNN(pl.LightningModule):\n",
        "    #https://github.com/pyg-team/pytorch_geometric/blob/master/examples/dgcnn_segmentation.py\n",
        "    def __init__(self, in_channels: int=512, out_channels: int=3,\n",
        "                 # hidden_channels: int = 64, num_layers: int = 3,\n",
        "                 dropout: float = 0.5, k=30, aggr='max'):\n",
        "        super().__init__()\n",
        "        self.save_hyperparameters()\n",
        "        self.conv1 = DynamicEdgeConv(MLP([in_channels*2, 256, 128]), k, aggr)\n",
        "        self.conv2 = DynamicEdgeConv(MLP([256, 256, 128]), k, aggr)\n",
        "        self.conv3 = DynamicEdgeConv(MLP([256, 256, 128]), k, aggr)\n",
        "\n",
        "        self.mlp = MLP([3 * 128, 256, 128, out_channels], dropout=dropout,\n",
        "                       norm=None)\n",
        "\n",
        "        self.train_mse = MeanSquaredError()\n",
        "        self.val_mse = MeanSquaredError()\n",
        "        self.test_mse = MeanSquaredError()\n",
        "        self.test_pearson = PearsonCorrCoef(num_outputs=1)\n",
        "        self.test_pearson3atoms = PearsonCorrCoef(num_outputs=3)\n",
        "\n",
        "    def forward(self, x, edge_index, batch):\n",
        "        x1 = self.conv1(x, batch)\n",
        "        x2 = self.conv2(x1, batch)\n",
        "        x3 = self.conv3(x2, batch)\n",
        "        out = self.mlp(torch.cat([x1, x2, x3], dim=1))\n",
        "        return F.selu(out)\n",
        "\n",
        "    def training_step(self, data, batch_idx):\n",
        "        y_hat = self(data.x, data.edge_index, data.batch)\n",
        "        loss = F.mse_loss(y_hat, data.y)\n",
        "        self.train_mse(y_hat, data.y)\n",
        "        self.log('train_mse', self.train_mse, prog_bar=True, on_step=False,\n",
        "                 on_epoch=True)\n",
        "        return loss\n",
        "\n",
        "    def validation_step(self, data, batch_idx):\n",
        "        y_hat = self(data.x, data.edge_index, data.batch)\n",
        "        self.val_mse(y_hat, data.y)\n",
        "        self.log('val_mse', self.val_mse, prog_bar=True, on_step=False,\n",
        "                 on_epoch=True)\n",
        "\n",
        "    def test_step(self, data, batch_idx):\n",
        "        y_hat = self(data.x, data.edge_index, data.batch)\n",
        "        self.test_mse(y_hat, data.y)\n",
        "        # print(y_hat.shape, data.y.shape)\n",
        "        self.test_pearson(y_hat.reshape(-1), data.y.reshape(-1))\n",
        "        # self.test_pearson3atoms(y_hat, data.y)\n",
        "        self.log('test_mse', self.test_mse, prog_bar=True, on_step=False,\n",
        "                 on_epoch=True)\n",
        "        self.log('Test Pearson Correlation Coefficient', self.test_pearson, prog_bar=True, on_step=False,\n",
        "                  on_epoch=True)\n",
        "        # self.log('Test Pearson Corr. Coeff. on [N]', self.test_pearson3atoms[0], prog_bar=True, on_step=False,\n",
        "        #           on_epoch=True)\n",
        "        # self.log('Test Pearson Corr. Coeff. on [CA]', self.test_pearson3atoms[1], prog_bar=True, on_step=False,\n",
        "        #           on_epoch=True)\n",
        "        # self.log('Test Pearson Corr. Coeff. on [C]', self.test_pearson3atoms[2], prog_bar=True, on_step=False,\n",
        "        #           on_epoch=True)\n",
        "\n",
        "    def configure_optimizers(self):\n",
        "        return torch.optim.Adam(self.parameters(), lr=0.01)\n",
        "\n"
      ],
      "metadata": {
        "id": "fOUS1K8mhwfv"
      },
      "execution_count": 26,
      "outputs": []
    },
    {
      "cell_type": "code",
      "source": [
        "# trainer.test(test_dataset[0].x, test_dataset[0].edge_index, test_dataset[0].batch)"
      ],
      "metadata": {
        "id": "tskJZx4Vt0wu"
      },
      "execution_count": 27,
      "outputs": []
    },
    {
      "cell_type": "code",
      "source": [],
      "metadata": {
        "id": "unCdvhj7SCb2"
      },
      "execution_count": 27,
      "outputs": []
    },
    {
      "cell_type": "code",
      "source": [
        "datadir = \"data\"\n",
        "def adaptabilities2distribution_parameters(adaptabilities):\n",
        "    # input shape (frames, num_residues, 3)\n",
        "    # output shape should be (num_residues, 3+3) for mean and std values\n",
        "    mean_values = adaptabilities[1:].mean(axis=0)\n",
        "    std_values = adaptabilities[1:].std(axis=0)\n",
        "    targets = np.concatenate([mean_values, std_values], axis=-1)\n",
        "    return targets\n",
        "\n",
        "# target_pretransform = lambda adaptabilities: adaptabilities[1]\n",
        "# device = torch.device('cuda' if torch.cuda.is_available() else 'cpu')\n",
        "dataset_pdbids = train_pdbids + test_pdbids + val_pdbids\n",
        "full_dataset = AdaptabilityDataset(\n",
        "    datadir, pdbid_list=dataset_pdbids, target_pretransform=adaptabilities2distribution_parameters,\n",
        "    recompute=False\n",
        ")\n",
        "\n",
        "train_idx = full_dataset.get_indices(train_pdbids)\n",
        "train_dataset = full_dataset[train_idx]\n",
        "print(\"Train dataset length:\", len(train_dataset))\n",
        "\n",
        "val_idx = full_dataset.get_indices(val_pdbids)\n",
        "val_dataset = full_dataset[val_idx]\n",
        "print(\"Val dataset length:\", len(val_dataset))\n",
        "\n",
        "test_idx = full_dataset.get_indices(test_pdbids)\n",
        "test_dataset = full_dataset[test_idx]\n",
        "print(\"Test dataset length:\", len(test_dataset))\n"
      ],
      "metadata": {
        "colab": {
          "base_uri": "https://localhost:8080/"
        },
        "id": "jjKFs2lWMYJy",
        "outputId": "f34241b5-3115-4f5a-cd16-929d1d5a24b2"
      },
      "execution_count": 29,
      "outputs": [
        {
          "output_type": "stream",
          "name": "stderr",
          "text": [
            "Processing...\n"
          ]
        },
        {
          "output_type": "stream",
          "name": "stdout",
          "text": [
            "Train dataset length: 11759\n",
            "Val dataset length: 1342\n",
            "Test dataset length: 1352\n"
          ]
        },
        {
          "output_type": "stream",
          "name": "stderr",
          "text": [
            "Done!\n"
          ]
        }
      ]
    },
    {
      "cell_type": "code",
      "source": [
        "# prot = torch.load(\"data/processed/10GS.pt\")\n",
        "# prot\n",
        "from pytorch_lightning.callbacks import BatchSizeFinder, EarlyStopping"
      ],
      "metadata": {
        "id": "nnTEtKRxQXEy"
      },
      "execution_count": 30,
      "outputs": []
    },
    {
      "cell_type": "code",
      "source": [
        "from IPython.core.interactiveshell import Logger\n",
        "NUM_EPOCHS = 50\n",
        "BATCH_SIZE = 16 # T4\n",
        "NSTEPS = max(len(train_dataset) //BATCH_SIZE, 1)\n",
        "print(\"log every n steps\", NSTEPS)\n",
        "datamodule = LightningDataset(\n",
        "    train_dataset, val_dataset, test_dataset,\n",
        "    test_dataset,\n",
        "    batch_size=BATCH_SIZE, \n",
        "    num_workers=1\n",
        ")\n",
        "from pytorch_lightning.loggers import CSVLogger\n",
        "logger = CSVLogger(\"logs\", name=\"pyg_dgcnn_next_frame\")\n",
        "\n",
        "model = DGCNN(out_channels=6)\n",
        "pre_transform = T.NormalizeScale()\n",
        "\n",
        "if torch.cuda.is_available():\n",
        "  devices = torch.cuda.device_count()\n",
        "strategy = pl.strategies.DDPStrategy(accelerator='gpu')\n",
        "checkpoint = pl.callbacks.ModelCheckpoint(\n",
        "    monitor='val_mse', save_top_k=3,\n",
        "    mode='min',\n",
        "    filename='dgcnn-{epoch:02d}-{step:03d}-{val_mse:.2f}.pt'\n",
        ")\n",
        "batch_size_finder=BatchSizeFinder()\n",
        "# from lightning.pytorch.callbacks import EarlyStopping\n",
        "early_stopping = EarlyStopping(\n",
        "    'val_mse', mode='min',\n",
        "    check_finite=True,\n",
        "    patience=5\n",
        ")\n",
        "# trainer = Trainer(callbacks=[early_stopping])\n",
        "callbacks = [\n",
        "    checkpoint,\n",
        "    early_stopping,\n",
        "    # batch_size_finder\n",
        "]\n",
        "if torch.cuda.is_available():\n",
        "  devices = torch.cuda.device_count()\n",
        "  trainer = pl.Trainer(\n",
        "        # strategy=strategy, \n",
        "        devices=devices,\n",
        "        max_epochs=NUM_EPOCHS,\n",
        "        log_every_n_steps=NSTEPS, \n",
        "        callbacks=callbacks,\n",
        "        logger=logger\n",
        "  )\n",
        "else:\n",
        "    trainer = pl.Trainer(\n",
        "        # strategy=strategy, \n",
        "        # devices='cpu',\n",
        "        max_epochs=NUM_EPOCHS,\n",
        "        log_every_n_steps=NSTEPS, \n",
        "        callbacks=callbacks,\n",
        "        logger=logger\n",
        "    )\n",
        "\n",
        "trainer.fit(model, datamodule)\n",
        "trainer.test(ckpt_path='best', datamodule=datamodule)"
      ],
      "metadata": {
        "colab": {
          "base_uri": "https://localhost:8080/",
          "height": 515,
          "referenced_widgets": [
            "737ab0b5cd2f4fe891ea52a7075f059b",
            "77b1638accdf4610a95d2a71fc4f5ccc",
            "8c34e5b50fe945998312e863d380885b",
            "0e330a1919d448aa946b15bb3b899e89",
            "59e3cfc66b4f4463b11186915ae9be62",
            "4c7bd596663345e4a2011b023e1b2f86",
            "86276cbbb8204214b00f1fdeccd76510",
            "cbf2d9d4f549496da68c45af7a50a5b0",
            "1807fc00787540e69083192f094d94ba",
            "f470e92c1f674e179497e6e6f44384f1",
            "a8fe60ff9ac74e1b86d81366861de22c",
            "4e3115294cae4141a3bb9fa258b854a7",
            "c4be542bee994dea8c836919fa67b40a",
            "2fef80ecd1ac41c7ab058414617f7e5b",
            "37a27aa662c94eab89f0bab7acc3605a",
            "9bfc3f6fe8d14558a86aefedb28fe807",
            "e43d9e08cce0460592d058bb22f06a5b",
            "459f04854e5e4faf909fda165e40e5ba",
            "43e0e0be650943ae9ff4fdfb96a626c0",
            "747dab8f812b4885b50dd7699ac65a42",
            "b020e5956d514850ba53b6af73b31aa7",
            "2c2ea337fbf449e2a103bb602c2d7251"
          ]
        },
        "id": "7vxfhUweiET9",
        "outputId": "6544c5a4-f39d-4c4c-a05d-a12cf9a80ab0"
      },
      "execution_count": null,
      "outputs": [
        {
          "output_type": "stream",
          "name": "stderr",
          "text": [
            "INFO:pytorch_lightning.utilities.rank_zero:GPU available: True (cuda), used: True\n",
            "INFO:pytorch_lightning.utilities.rank_zero:TPU available: False, using: 0 TPU cores\n",
            "INFO:pytorch_lightning.utilities.rank_zero:IPU available: False, using: 0 IPUs\n",
            "INFO:pytorch_lightning.utilities.rank_zero:HPU available: False, using: 0 HPUs\n",
            "INFO:pytorch_lightning.accelerators.cuda:LOCAL_RANK: 0 - CUDA_VISIBLE_DEVICES: [0]\n",
            "INFO:pytorch_lightning.callbacks.model_summary:\n",
            "  | Name               | Type             | Params\n",
            "--------------------------------------------------------\n",
            "0 | conv1              | DynamicEdgeConv  | 295 K \n",
            "1 | conv2              | DynamicEdgeConv  | 99.2 K\n",
            "2 | conv3              | DynamicEdgeConv  | 99.2 K\n",
            "3 | mlp                | MLP              | 132 K \n",
            "4 | train_mse          | MeanSquaredError | 0     \n",
            "5 | val_mse            | MeanSquaredError | 0     \n",
            "6 | test_mse           | MeanSquaredError | 0     \n",
            "7 | test_pearson       | PearsonCorrCoef  | 0     \n",
            "8 | test_pearson3atoms | PearsonCorrCoef  | 0     \n",
            "--------------------------------------------------------\n",
            "626 K     Trainable params\n",
            "0         Non-trainable params\n",
            "626 K     Total params\n",
            "2.506     Total estimated model params size (MB)\n"
          ]
        },
        {
          "output_type": "stream",
          "name": "stdout",
          "text": [
            "log every n steps 734\n"
          ]
        },
        {
          "output_type": "stream",
          "name": "stderr",
          "text": [
            "/usr/local/lib/python3.10/dist-packages/lightning_fabric/loggers/csv_logs.py:188: UserWarning: Experiment logs directory logs/pyg_dgcnn_next_frame/version_0 exists and is not empty. Previous log files in this directory will be deleted when the new ones are saved!\n",
            "  rank_zero_warn(\n"
          ]
        },
        {
          "output_type": "display_data",
          "data": {
            "text/plain": [
              "Sanity Checking: 0it [00:00, ?it/s]"
            ],
            "application/vnd.jupyter.widget-view+json": {
              "version_major": 2,
              "version_minor": 0,
              "model_id": "737ab0b5cd2f4fe891ea52a7075f059b"
            }
          },
          "metadata": {}
        },
        {
          "output_type": "display_data",
          "data": {
            "text/plain": [
              "Training: 0it [00:00, ?it/s]"
            ],
            "application/vnd.jupyter.widget-view+json": {
              "version_major": 2,
              "version_minor": 0,
              "model_id": "4e3115294cae4141a3bb9fa258b854a7"
            }
          },
          "metadata": {}
        }
      ]
    },
    {
      "cell_type": "code",
      "source": [
        "# del train_dataset\n",
        "# del test_dataset\n",
        "# del val_dataset\n",
        "# torch.cuda.empty_cache()\n",
        "# del datamodule\n",
        "# del trainer\n",
        "# del model"
      ],
      "metadata": {
        "id": "utyWp_GjCrj9"
      },
      "execution_count": 32,
      "outputs": []
    },
    {
      "cell_type": "code",
      "execution_count": 33,
      "metadata": {
        "id": "qSokkHLBf170"
      },
      "outputs": [],
      "source": [
        "\n",
        "# !cp -r logs {SAVEDIR}"
      ]
    },
    {
      "cell_type": "code",
      "source": [
        "# trainer.test(ckpt_path='best',)"
      ],
      "metadata": {
        "id": "Q5p7aOxLik9u"
      },
      "execution_count": 34,
      "outputs": []
    },
    {
      "cell_type": "code",
      "source": [
        "# !cp {SAVEDIR/\"logs/pyg_dgcnn_next_frame/version_0/checkpoints\"}"
      ],
      "metadata": {
        "id": "iWcGo3xlhMst"
      },
      "execution_count": null,
      "outputs": []
    },
    {
      "cell_type": "code",
      "source": [],
      "metadata": {
        "id": "fBKxJ9Fh5Em8"
      },
      "execution_count": 24,
      "outputs": []
    },
    {
      "cell_type": "code",
      "source": [],
      "metadata": {
        "id": "sDpjHHIq5NWc"
      },
      "execution_count": null,
      "outputs": []
    }
  ]
}